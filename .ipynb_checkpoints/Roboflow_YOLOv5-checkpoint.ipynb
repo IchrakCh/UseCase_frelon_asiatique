{
 "cells": [
  {
   "cell_type": "markdown",
   "metadata": {
    "id": "GD9gUQpaBxNa"
   },
   "source": [
    "# Detection de frelons à l'aide de l'algorithme YoloV5"
   ]
  },
  {
   "cell_type": "code",
   "execution_count": 1,
   "metadata": {
    "colab": {
     "base_uri": "https://localhost:8080/"
    },
    "id": "wbvMlHd_QwMG",
    "outputId": "2b0dfcca-1cd4-4c55-fcac-c8c65ba3b7ce"
   },
   "outputs": [
    {
     "name": "stdout",
     "output_type": "stream",
     "text": [
      "/home/eisti/Desktop/ING3/usecase1/UseCase_frelon_asiatique/yolov5\n"
     ]
    }
   ],
   "source": [
    "import torch\n",
    "from IPython.display import Image, clear_output, display  # librairie d'affichage des images\n",
    "from IPython.core.magic import register_line_cell_magic\n",
    "%cd yolov5\n",
    "from utils.downloads import gdrive_download\n",
    "import yaml\n",
    "import glob"
   ]
  },
  {
   "cell_type": "markdown",
   "metadata": {
    "id": "SDIhrBF0sPaM"
   },
   "source": [
    "# Mise en place du dataset\n",
    "\n",
    "Après avoir collecté des images dans 3 classes différentes (Frelons asiatiques, Frelons européens et autres insectes dont abeilles, guêpes et mouches), nous les avons labellisé en utilisant RoboFlow. On obtient alors une clé API qui nous permet de récupéré des données pré-formatées que l'on pourra utiliser simplement pour entrainer notre algorithme. "
   ]
  },
  {
   "cell_type": "code",
   "execution_count": 2,
   "metadata": {
    "colab": {
     "base_uri": "https://localhost:8080/"
    },
    "id": "Ug_PhK1oqwQA",
    "outputId": "a55ae54a-8aed-4eb6-d60d-b5e9007aa3c7"
   },
   "outputs": [
    {
     "name": "stdout",
     "output_type": "stream",
     "text": [
      "loading Roboflow workspace...\n",
      "loading Roboflow project...\n",
      "Downloading Dataset Version Zip in useCaseHornet-2 to yolov5pytorch: 100% [5672017 / 5672017] bytes\n"
     ]
    },
    {
     "name": "stderr",
     "output_type": "stream",
     "text": [
      "Extracting Dataset Version Zip to useCaseHornet-2 in yolov5pytorch:: 100%|██████████| 474/474 [00:00<00:00, 3478.92it/s]\n"
     ]
    }
   ],
   "source": [
    "from roboflow import Roboflow\n",
    "rf = Roboflow(api_key=\"l7xZVOnY9MzH8MTMppTB\")\n",
    "project = rf.workspace().project(\"usecasehornet\")\n",
    "dataset = project.version(2).download(\"yolov5\")"
   ]
  },
  {
   "cell_type": "code",
   "execution_count": 3,
   "metadata": {
    "colab": {
     "base_uri": "https://localhost:8080/"
    },
    "id": "ZZ3DmmGQztJj",
    "outputId": "084d7edd-6d95-4852-9ebd-191a042aadae"
   },
   "outputs": [
    {
     "name": "stdout",
     "output_type": "stream",
     "text": [
      "names:\r\n",
      "- asian\r\n",
      "- european\r\n",
      "- other\r\n",
      "nc: 3\r\n",
      "train: useCaseHornet-2/train/images\r\n",
      "val: useCaseHornet-2/valid/images\r\n"
     ]
    }
   ],
   "source": [
    "# informations sur le dataset utilisé\n",
    "%cat {dataset.location}/data.yaml"
   ]
  },
  {
   "cell_type": "markdown",
   "metadata": {
    "id": "UwJx-2NHsYxT"
   },
   "source": [
    "# Définition des paramètres du modèle\n",
    "\n",
    "On définit ensuite les différents paramètres de notre modèle. "
   ]
  },
  {
   "cell_type": "code",
   "execution_count": 4,
   "metadata": {
    "id": "dOPn9wjOAwwK"
   },
   "outputs": [
    {
     "name": "stdout",
     "output_type": "stream",
     "text": [
      "Nombre de classes : 3\n"
     ]
    }
   ],
   "source": [
    "# on récupère le nombre de classes de nos données\n",
    "with open(dataset.location + \"/data.yaml\", 'r') as stream:\n",
    "    num_classes = str(yaml.safe_load(stream)['nc'])\n",
    "print(\"Nombre de classes :\", num_classes)"
   ]
  },
  {
   "cell_type": "code",
   "execution_count": 6,
   "metadata": {
    "id": "t14hhyqdmw6O"
   },
   "outputs": [],
   "source": [
    "# fonction pour écrire le fichier de configuration du modèle\n",
    "@register_line_cell_magic\n",
    "def writetemplate(line, cell):\n",
    "    with open(line, 'w') as f:\n",
    "        f.write(cell.format(**globals()))"
   ]
  },
  {
   "cell_type": "code",
   "execution_count": 7,
   "metadata": {
    "id": "uDxebz13RdRA"
   },
   "outputs": [],
   "source": [
    "%%writetemplate models/custom_yolov5s.yaml\n",
    "\n",
    "# parameters\n",
    "nc: {num_classes}  # number of classes\n",
    "depth_multiple: 0.33  # model depth multiple\n",
    "width_multiple: 0.50  # layer channel multiple\n",
    "\n",
    "# anchors\n",
    "anchors:\n",
    "  - [10,13, 16,30, 33,23]  # P3/8\n",
    "  - [30,61, 62,45, 59,119]  # P4/16\n",
    "  - [116,90, 156,198, 373,326]  # P5/32\n",
    "\n",
    "# YOLOv5 backbone\n",
    "backbone:\n",
    "  # [from, number, module, args]\n",
    "  [[-1, 1, Focus, [64, 3]],  # 0-P1/2\n",
    "   [-1, 1, Conv, [128, 3, 2]],  # 1-P2/4\n",
    "   [-1, 3, BottleneckCSP, [128]],\n",
    "   [-1, 1, Conv, [256, 3, 2]],  # 3-P3/8\n",
    "   [-1, 9, BottleneckCSP, [256]],\n",
    "   [-1, 1, Conv, [512, 3, 2]],  # 5-P4/16\n",
    "   [-1, 9, BottleneckCSP, [512]],\n",
    "   [-1, 1, Conv, [1024, 3, 2]],  # 7-P5/32\n",
    "   [-1, 1, SPP, [1024, [5, 9, 13]]],\n",
    "   [-1, 3, BottleneckCSP, [1024, False]],  # 9\n",
    "  ]\n",
    "\n",
    "# YOLOv5 head\n",
    "head:\n",
    "  [[-1, 1, Conv, [512, 1, 1]],\n",
    "   [-1, 1, nn.Upsample, [None, 2, 'nearest']],\n",
    "   [[-1, 6], 1, Concat, [1]],  # cat backbone P4\n",
    "   [-1, 3, BottleneckCSP, [512, False]],  # 13\n",
    "\n",
    "   [-1, 1, Conv, [256, 1, 1]],\n",
    "   [-1, 1, nn.Upsample, [None, 2, 'nearest']],\n",
    "   [[-1, 4], 1, Concat, [1]],  # cat backbone P3\n",
    "   [-1, 3, BottleneckCSP, [256, False]],  # 17 (P3/8-small)\n",
    "\n",
    "   [-1, 1, Conv, [256, 3, 2]],\n",
    "   [[-1, 14], 1, Concat, [1]],  # cat head P4\n",
    "   [-1, 3, BottleneckCSP, [512, False]],  # 20 (P4/16-medium)\n",
    "\n",
    "   [-1, 1, Conv, [512, 3, 2]],\n",
    "   [[-1, 10], 1, Concat, [1]],  # cat head P5\n",
    "   [-1, 3, BottleneckCSP, [1024, False]],  # 23 (P5/32-large)\n",
    "\n",
    "   [[17, 20, 23], 1, Detect, [nc, anchors]],  # Detect(P3, P4, P5)\n",
    "  ]"
   ]
  },
  {
   "cell_type": "markdown",
   "metadata": {
    "id": "VUOiNLtMP5aG"
   },
   "source": [
    "# Entrainement sur nos données\n",
    "\n",
    "Une fonction permettant de réentrainer le modèle sur nos données est disponible dans le repository utilisé, dans le fichier train.py. \n",
    "\n",
    "On utilise les paramètres suivants : \n",
    "- **img:** taille des images d'entrée\n",
    "- **batch:** taille des batchs de données\n",
    "- **epochs:** nombre d'epochs\n",
    "- **data:** chemin vers le fichier de données\n",
    "- **cfg:** fichier de configuration du modèle\n",
    "- **weights:** fichiers contenant les poids pré-entrainés\n",
    "- **name:** nom du fichier de résultats\n",
    "- **nosave:** pour ne sauvegarder qu'à la fin de l'entrainement\n",
    "- **cache:** images gardées en cache (améliore la vitesse de l'entrainement)"
   ]
  },
  {
   "cell_type": "code",
   "execution_count": null,
   "metadata": {
    "colab": {
     "background_save": true,
     "base_uri": "https://localhost:8080/"
    },
    "id": "1NcFxRcFdJ_O",
    "outputId": "f5537b2f-9633-44e6-9f5b-ed61baae2c1b"
   },
   "outputs": [
    {
     "name": "stdout",
     "output_type": "stream",
     "text": [
      "\u001b[34m\u001b[1mtrain: \u001b[0mweights=, cfg=./models/custom_yolov5s.yaml, data=/home/eisti/Desktop/ING3/usecase1/UseCase_frelon_asiatique/yolov5/useCaseHornet-2/data.yaml, hyp=data/hyps/hyp.scratch.yaml, epochs=100, batch_size=12, imgsz=416, rect=False, resume=False, nosave=False, noval=False, noautoanchor=False, evolve=None, bucket=, cache=ram, image_weights=False, device=, multi_scale=False, single_cls=False, optimizer=SGD, sync_bn=False, workers=8, project=runs/train, name=yolov5s_results, exist_ok=False, quad=False, linear_lr=False, label_smoothing=0.0, patience=100, freeze=[0], save_period=-1, local_rank=-1, entity=None, upload_dataset=False, bbox_interval=-1, artifact_alias=latest\n",
      "\u001b[34m\u001b[1mgithub: \u001b[0mskipping check (not a git repository), for updates see https://github.com/ultralytics/yolov5\n",
      "YOLOv5 🚀 66a292d torch 1.10.2+cu102 CPU\n",
      "\n",
      "\u001b[34m\u001b[1mhyperparameters: \u001b[0mlr0=0.01, lrf=0.1, momentum=0.937, weight_decay=0.0005, warmup_epochs=3.0, warmup_momentum=0.8, warmup_bias_lr=0.1, box=0.05, cls=0.5, cls_pw=1.0, obj=1.0, obj_pw=1.0, iou_t=0.2, anchor_t=4.0, fl_gamma=0.0, hsv_h=0.015, hsv_s=0.7, hsv_v=0.4, degrees=0.0, translate=0.1, scale=0.5, shear=0.0, perspective=0.0, flipud=0.0, fliplr=0.5, mosaic=1.0, mixup=0.0, copy_paste=0.0\n",
      "\u001b[34m\u001b[1mWeights & Biases: \u001b[0mrun 'pip install wandb' to automatically track and visualize YOLOv5 🚀 runs (RECOMMENDED)\n",
      "\u001b[34m\u001b[1mTensorBoard: \u001b[0mStart with 'tensorboard --logdir runs/train', view at http://localhost:6006/\n",
      "\n",
      "                 from  n    params  module                                  arguments                     \n",
      "  0                -1  1      3520  models.common.Focus                     [3, 32, 3]                    \n",
      "  1                -1  1     18560  models.common.Conv                      [32, 64, 3, 2]                \n",
      "  2                -1  1     19904  models.common.BottleneckCSP             [64, 64, 1]                   \n",
      "  3                -1  1     73984  models.common.Conv                      [64, 128, 3, 2]               \n",
      "  4                -1  3    161152  models.common.BottleneckCSP             [128, 128, 3]                 \n",
      "  5                -1  1    295424  models.common.Conv                      [128, 256, 3, 2]              \n",
      "  6                -1  3    641792  models.common.BottleneckCSP             [256, 256, 3]                 \n",
      "  7                -1  1   1180672  models.common.Conv                      [256, 512, 3, 2]              \n",
      "  8                -1  1    656896  models.common.SPP                       [512, 512, [5, 9, 13]]        \n",
      "  9                -1  1   1248768  models.common.BottleneckCSP             [512, 512, 1, False]          \n",
      " 10                -1  1    131584  models.common.Conv                      [512, 256, 1, 1]              \n",
      " 11                -1  1         0  torch.nn.modules.upsampling.Upsample    [None, 2, 'nearest']          \n",
      " 12           [-1, 6]  1         0  models.common.Concat                    [1]                           \n",
      " 13                -1  1    378624  models.common.BottleneckCSP             [512, 256, 1, False]          \n",
      " 14                -1  1     33024  models.common.Conv                      [256, 128, 1, 1]              \n",
      " 15                -1  1         0  torch.nn.modules.upsampling.Upsample    [None, 2, 'nearest']          \n",
      " 16           [-1, 4]  1         0  models.common.Concat                    [1]                           \n",
      " 17                -1  1     95104  models.common.BottleneckCSP             [256, 128, 1, False]          \n",
      " 18                -1  1    147712  models.common.Conv                      [128, 128, 3, 2]              \n",
      " 19          [-1, 14]  1         0  models.common.Concat                    [1]                           \n",
      " 20                -1  1    313088  models.common.BottleneckCSP             [256, 256, 1, False]          \n",
      " 21                -1  1    590336  models.common.Conv                      [256, 256, 3, 2]              \n",
      " 22          [-1, 10]  1         0  models.common.Concat                    [1]                           \n",
      " 23                -1  1   1248768  models.common.BottleneckCSP             [512, 512, 1, False]          \n",
      " 24      [17, 20, 23]  1     21576  models.yolo.Detect                      [3, [[10, 13, 16, 30, 33, 23], [30, 61, 62, 45, 59, 119], [116, 90, 156, 198, 373, 326]], [128, 256, 512]]\n",
      "Model Summary: 283 layers, 7260488 parameters, 7260488 gradients, 16.8 GFLOPs\n",
      "\n",
      "Scaled weight_decay = 0.00046875\n",
      "\u001b[34m\u001b[1moptimizer:\u001b[0m SGD with parameter groups 59 weight (no decay), 70 weight, 62 bias\n",
      "\u001b[34m\u001b[1mtrain: \u001b[0mScanning '/home/eisti/Desktop/ING3/usecase1/UseCase_frelon_asiatique/yolo\u001b[0m\n",
      "\u001b[34m\u001b[1mtrain: \u001b[0mCaching images (0.1GB ram): 100%|████| 189/189 [00:00<00:00, 1552.00it/s]\u001b[0m\n",
      "\u001b[34m\u001b[1mval: \u001b[0mScanning '/home/eisti/Desktop/ING3/usecase1/UseCase_frelon_asiatique/yolov5\u001b[0m\n",
      "\u001b[34m\u001b[1mval: \u001b[0mCaching images (0.0GB ram): 100%|█████████| 25/25 [00:00<00:00, 617.11it/s]\u001b[0m\n",
      "Plotting labels to runs/train/yolov5s_results3/labels.jpg... \n",
      "\n",
      "\u001b[34m\u001b[1mAutoAnchor: \u001b[0m3.68 anchors/target, 1.000 Best Possible Recall (BPR). Current anchors are a good fit to dataset ✅\n",
      "Image sizes 416 train, 416 val\n",
      "Using 8 dataloader workers\n",
      "Logging results to \u001b[1mruns/train/yolov5s_results3\u001b[0m\n",
      "Starting training for 100 epochs...\n",
      "\n",
      "     Epoch   gpu_mem       box       obj       cls    labels  img_size\n",
      "  0%|          | 0/16 [00:00<?, ?it/s]                                          /home/eisti/Desktop/ING3/usecase1/lib/python3.9/site-packages/torch/autocast_mode.py:141: UserWarning: User provided device_type of 'cuda', but CUDA is not available. Disabling\n",
      "  warnings.warn('User provided device_type of \\'cuda\\', but CUDA is not available. Disabling')\n",
      "      0/99        0G    0.1152   0.01972   0.03818        28       416:   6%|▋  /home/eisti/Desktop/ING3/usecase1/lib/python3.9/site-packages/torch/autocast_mode.py:141: UserWarning: User provided device_type of 'cuda', but CUDA is not available. Disabling\n",
      "  warnings.warn('User provided device_type of \\'cuda\\', but CUDA is not available. Disabling')\n",
      "      0/99        0G    0.1154   0.01952   0.03784        27       416:  12%|█▎ /home/eisti/Desktop/ING3/usecase1/lib/python3.9/site-packages/torch/autocast_mode.py:141: UserWarning: User provided device_type of 'cuda', but CUDA is not available. Disabling\n",
      "  warnings.warn('User provided device_type of \\'cuda\\', but CUDA is not available. Disabling')\n",
      "      0/99        0G     0.114   0.02058     0.038        33       416:  19%|█▉ /home/eisti/Desktop/ING3/usecase1/lib/python3.9/site-packages/torch/autocast_mode.py:141: UserWarning: User provided device_type of 'cuda', but CUDA is not available. Disabling\n",
      "  warnings.warn('User provided device_type of \\'cuda\\', but CUDA is not available. Disabling')\n",
      "      0/99        0G    0.1143   0.02028   0.03822        29       416:  25%|██▌/home/eisti/Desktop/ING3/usecase1/lib/python3.9/site-packages/torch/autocast_mode.py:141: UserWarning: User provided device_type of 'cuda', but CUDA is not available. Disabling\n",
      "  warnings.warn('User provided device_type of \\'cuda\\', but CUDA is not available. Disabling')\n",
      "      0/99        0G    0.1138   0.02042   0.03827        27       416:  31%|███/home/eisti/Desktop/ING3/usecase1/lib/python3.9/site-packages/torch/autocast_mode.py:141: UserWarning: User provided device_type of 'cuda', but CUDA is not available. Disabling\n",
      "  warnings.warn('User provided device_type of \\'cuda\\', but CUDA is not available. Disabling')\n",
      "      0/99        0G    0.1133   0.02087   0.03821        34       416:  38%|███/home/eisti/Desktop/ING3/usecase1/lib/python3.9/site-packages/torch/autocast_mode.py:141: UserWarning: User provided device_type of 'cuda', but CUDA is not available. Disabling\n",
      "  warnings.warn('User provided device_type of \\'cuda\\', but CUDA is not available. Disabling')\n",
      "      0/99        0G    0.1132   0.02067    0.0381        25       416:  44%|███/home/eisti/Desktop/ING3/usecase1/lib/python3.9/site-packages/torch/autocast_mode.py:141: UserWarning: User provided device_type of 'cuda', but CUDA is not available. Disabling\n",
      "  warnings.warn('User provided device_type of \\'cuda\\', but CUDA is not available. Disabling')\n"
     ]
    },
    {
     "name": "stdout",
     "output_type": "stream",
     "text": [
      "      0/99        0G    0.1129   0.02059   0.03811        30       416:  50%|███/home/eisti/Desktop/ING3/usecase1/lib/python3.9/site-packages/torch/autocast_mode.py:141: UserWarning: User provided device_type of 'cuda', but CUDA is not available. Disabling\n",
      "  warnings.warn('User provided device_type of \\'cuda\\', but CUDA is not available. Disabling')\n",
      "      0/99        0G    0.1126   0.02075   0.03815        32       416:  56%|███/home/eisti/Desktop/ING3/usecase1/lib/python3.9/site-packages/torch/autocast_mode.py:141: UserWarning: User provided device_type of 'cuda', but CUDA is not available. Disabling\n",
      "  warnings.warn('User provided device_type of \\'cuda\\', but CUDA is not available. Disabling')\n",
      "      0/99        0G    0.1116   0.02117   0.03814        36       416:  62%|███/home/eisti/Desktop/ING3/usecase1/lib/python3.9/site-packages/torch/autocast_mode.py:141: UserWarning: User provided device_type of 'cuda', but CUDA is not available. Disabling\n",
      "  warnings.warn('User provided device_type of \\'cuda\\', but CUDA is not available. Disabling')\n",
      "      0/99        0G    0.1114   0.02116   0.03814        28       416:  69%|███/home/eisti/Desktop/ING3/usecase1/lib/python3.9/site-packages/torch/autocast_mode.py:141: UserWarning: User provided device_type of 'cuda', but CUDA is not available. Disabling\n",
      "  warnings.warn('User provided device_type of \\'cuda\\', but CUDA is not available. Disabling')\n",
      "      0/99        0G     0.111   0.02097    0.0382        27       416:  75%|███/home/eisti/Desktop/ING3/usecase1/lib/python3.9/site-packages/torch/autocast_mode.py:141: UserWarning: User provided device_type of 'cuda', but CUDA is not available. Disabling\n",
      "  warnings.warn('User provided device_type of \\'cuda\\', but CUDA is not available. Disabling')\n",
      "      0/99        0G    0.1104   0.02081   0.03814        25       416:  81%|███/home/eisti/Desktop/ING3/usecase1/lib/python3.9/site-packages/torch/autocast_mode.py:141: UserWarning: User provided device_type of 'cuda', but CUDA is not available. Disabling\n",
      "  warnings.warn('User provided device_type of \\'cuda\\', but CUDA is not available. Disabling')\n",
      "      0/99        0G    0.1106   0.02087   0.03837        30       416:  88%|███/home/eisti/Desktop/ING3/usecase1/lib/python3.9/site-packages/torch/autocast_mode.py:141: UserWarning: User provided device_type of 'cuda', but CUDA is not available. Disabling\n",
      "  warnings.warn('User provided device_type of \\'cuda\\', but CUDA is not available. Disabling')\n",
      "      0/99        0G      0.11   0.02109   0.03833        32       416:  94%|███/home/eisti/Desktop/ING3/usecase1/lib/python3.9/site-packages/torch/autocast_mode.py:141: UserWarning: User provided device_type of 'cuda', but CUDA is not available. Disabling\n",
      "  warnings.warn('User provided device_type of \\'cuda\\', but CUDA is not available. Disabling')\n",
      "      0/99        0G    0.1105    0.0212   0.03843        24       416: 100%|███\n",
      "               Class     Images     Labels          P          R     mAP@.5 mAP@\n",
      "                 all         25         27     0.0024      0.606    0.00378   0.000796\n",
      "\n",
      "     Epoch   gpu_mem       box       obj       cls    labels  img_size\n",
      "  0%|          | 0/16 [00:00<?, ?it/s]                                          /home/eisti/Desktop/ING3/usecase1/lib/python3.9/site-packages/torch/autocast_mode.py:141: UserWarning: User provided device_type of 'cuda', but CUDA is not available. Disabling\n",
      "  warnings.warn('User provided device_type of \\'cuda\\', but CUDA is not available. Disabling')\n",
      "      1/99        0G    0.1192   0.02115   0.03506        28       416:   6%|▋  /home/eisti/Desktop/ING3/usecase1/lib/python3.9/site-packages/torch/autocast_mode.py:141: UserWarning: User provided device_type of 'cuda', but CUDA is not available. Disabling\n",
      "  warnings.warn('User provided device_type of \\'cuda\\', but CUDA is not available. Disabling')\n",
      "      1/99        0G    0.1056   0.02061   0.03729        24       416:  12%|█▎ /home/eisti/Desktop/ING3/usecase1/lib/python3.9/site-packages/torch/autocast_mode.py:141: UserWarning: User provided device_type of 'cuda', but CUDA is not available. Disabling\n",
      "  warnings.warn('User provided device_type of \\'cuda\\', but CUDA is not available. Disabling')\n",
      "      1/99        0G    0.1033   0.02132   0.03739        31       416:  19%|█▉ /home/eisti/Desktop/ING3/usecase1/lib/python3.9/site-packages/torch/autocast_mode.py:141: UserWarning: User provided device_type of 'cuda', but CUDA is not available. Disabling\n",
      "  warnings.warn('User provided device_type of \\'cuda\\', but CUDA is not available. Disabling')\n",
      "      1/99        0G    0.1014   0.02253    0.0372        35       416:  25%|██▌/home/eisti/Desktop/ING3/usecase1/lib/python3.9/site-packages/torch/autocast_mode.py:141: UserWarning: User provided device_type of 'cuda', but CUDA is not available. Disabling\n",
      "  warnings.warn('User provided device_type of \\'cuda\\', but CUDA is not available. Disabling')\n",
      "      1/99        0G    0.1019   0.02216   0.03728        26       416:  31%|███/home/eisti/Desktop/ING3/usecase1/lib/python3.9/site-packages/torch/autocast_mode.py:141: UserWarning: User provided device_type of 'cuda', but CUDA is not available. Disabling\n",
      "  warnings.warn('User provided device_type of \\'cuda\\', but CUDA is not available. Disabling')\n",
      "      1/99        0G    0.1011   0.02247   0.03718        33       416:  38%|███/home/eisti/Desktop/ING3/usecase1/lib/python3.9/site-packages/torch/autocast_mode.py:141: UserWarning: User provided device_type of 'cuda', but CUDA is not available. Disabling\n",
      "  warnings.warn('User provided device_type of \\'cuda\\', but CUDA is not available. Disabling')\n",
      "      1/99        0G    0.1011   0.02265   0.03731        31       416:  44%|███/home/eisti/Desktop/ING3/usecase1/lib/python3.9/site-packages/torch/autocast_mode.py:141: UserWarning: User provided device_type of 'cuda', but CUDA is not available. Disabling\n",
      "  warnings.warn('User provided device_type of \\'cuda\\', but CUDA is not available. Disabling')\n",
      "      1/99        0G    0.1012   0.02287   0.03715        35       416:  50%|███/home/eisti/Desktop/ING3/usecase1/lib/python3.9/site-packages/torch/autocast_mode.py:141: UserWarning: User provided device_type of 'cuda', but CUDA is not available. Disabling\n",
      "  warnings.warn('User provided device_type of \\'cuda\\', but CUDA is not available. Disabling')\n",
      "      1/99        0G   0.09988   0.02301   0.03726        28       416:  56%|███/home/eisti/Desktop/ING3/usecase1/lib/python3.9/site-packages/torch/autocast_mode.py:141: UserWarning: User provided device_type of 'cuda', but CUDA is not available. Disabling\n",
      "  warnings.warn('User provided device_type of \\'cuda\\', but CUDA is not available. Disabling')\n",
      "      1/99        0G   0.09924   0.02305   0.03738        30       416:  62%|███/home/eisti/Desktop/ING3/usecase1/lib/python3.9/site-packages/torch/autocast_mode.py:141: UserWarning: User provided device_type of 'cuda', but CUDA is not available. Disabling\n",
      "  warnings.warn('User provided device_type of \\'cuda\\', but CUDA is not available. Disabling')\n",
      "      1/99        0G   0.09871   0.02342   0.03731        35       416:  69%|███/home/eisti/Desktop/ING3/usecase1/lib/python3.9/site-packages/torch/autocast_mode.py:141: UserWarning: User provided device_type of 'cuda', but CUDA is not available. Disabling\n",
      "  warnings.warn('User provided device_type of \\'cuda\\', but CUDA is not available. Disabling')\n",
      "      1/99        0G   0.09881    0.0234   0.03726        32       416:  75%|███/home/eisti/Desktop/ING3/usecase1/lib/python3.9/site-packages/torch/autocast_mode.py:141: UserWarning: User provided device_type of 'cuda', but CUDA is not available. Disabling\n",
      "  warnings.warn('User provided device_type of \\'cuda\\', but CUDA is not available. Disabling')\n",
      "      1/99        0G   0.09874   0.02339   0.03733        30       416:  81%|███/home/eisti/Desktop/ING3/usecase1/lib/python3.9/site-packages/torch/autocast_mode.py:141: UserWarning: User provided device_type of 'cuda', but CUDA is not available. Disabling\n",
      "  warnings.warn('User provided device_type of \\'cuda\\', but CUDA is not available. Disabling')\n",
      "      1/99        0G   0.09833   0.02314   0.03728        23       416:  88%|███/home/eisti/Desktop/ING3/usecase1/lib/python3.9/site-packages/torch/autocast_mode.py:141: UserWarning: User provided device_type of 'cuda', but CUDA is not available. Disabling\n",
      "  warnings.warn('User provided device_type of \\'cuda\\', but CUDA is not available. Disabling')\n"
     ]
    },
    {
     "name": "stdout",
     "output_type": "stream",
     "text": [
      "      1/99        0G   0.09786   0.02301   0.03724        25       416:  94%|███/home/eisti/Desktop/ING3/usecase1/lib/python3.9/site-packages/torch/autocast_mode.py:141: UserWarning: User provided device_type of 'cuda', but CUDA is not available. Disabling\n",
      "  warnings.warn('User provided device_type of \\'cuda\\', but CUDA is not available. Disabling')\n",
      "      1/99        0G   0.09745   0.02295   0.03724        21       416: 100%|███\n",
      "               Class     Images     Labels          P          R     mAP@.5 mAP@\n",
      "                 all         25         27     0.0017      0.411    0.00603   0.000919\n",
      "\n",
      "     Epoch   gpu_mem       box       obj       cls    labels  img_size\n",
      "  0%|          | 0/16 [00:00<?, ?it/s]                                          /home/eisti/Desktop/ING3/usecase1/lib/python3.9/site-packages/torch/autocast_mode.py:141: UserWarning: User provided device_type of 'cuda', but CUDA is not available. Disabling\n",
      "  warnings.warn('User provided device_type of \\'cuda\\', but CUDA is not available. Disabling')\n",
      "      2/99        0G   0.08618   0.03111    0.0371        40       416:   6%|▋  /home/eisti/Desktop/ING3/usecase1/lib/python3.9/site-packages/torch/autocast_mode.py:141: UserWarning: User provided device_type of 'cuda', but CUDA is not available. Disabling\n",
      "  warnings.warn('User provided device_type of \\'cuda\\', but CUDA is not available. Disabling')\n",
      "      2/99        0G   0.08919   0.02941   0.03669        37       416:  12%|█▎ /home/eisti/Desktop/ING3/usecase1/lib/python3.9/site-packages/torch/autocast_mode.py:141: UserWarning: User provided device_type of 'cuda', but CUDA is not available. Disabling\n",
      "  warnings.warn('User provided device_type of \\'cuda\\', but CUDA is not available. Disabling')\n",
      "      2/99        0G   0.08678   0.02861   0.03675        33       416:  19%|█▉ /home/eisti/Desktop/ING3/usecase1/lib/python3.9/site-packages/torch/autocast_mode.py:141: UserWarning: User provided device_type of 'cuda', but CUDA is not available. Disabling\n",
      "  warnings.warn('User provided device_type of \\'cuda\\', but CUDA is not available. Disabling')\n",
      "      2/99        0G   0.09073   0.02621   0.03724        25       416:  25%|██▌/home/eisti/Desktop/ING3/usecase1/lib/python3.9/site-packages/torch/autocast_mode.py:141: UserWarning: User provided device_type of 'cuda', but CUDA is not available. Disabling\n",
      "  warnings.warn('User provided device_type of \\'cuda\\', but CUDA is not available. Disabling')\n",
      "      2/99        0G   0.08956   0.02678   0.03699        36       416:  31%|███/home/eisti/Desktop/ING3/usecase1/lib/python3.9/site-packages/torch/autocast_mode.py:141: UserWarning: User provided device_type of 'cuda', but CUDA is not available. Disabling\n",
      "  warnings.warn('User provided device_type of \\'cuda\\', but CUDA is not available. Disabling')\n",
      "      2/99        0G   0.08888   0.02604   0.03671        27       416:  38%|███/home/eisti/Desktop/ING3/usecase1/lib/python3.9/site-packages/torch/autocast_mode.py:141: UserWarning: User provided device_type of 'cuda', but CUDA is not available. Disabling\n",
      "  warnings.warn('User provided device_type of \\'cuda\\', but CUDA is not available. Disabling')\n",
      "      2/99        0G   0.08993   0.02634   0.03697        36       416:  44%|███/home/eisti/Desktop/ING3/usecase1/lib/python3.9/site-packages/torch/autocast_mode.py:141: UserWarning: User provided device_type of 'cuda', but CUDA is not available. Disabling\n",
      "  warnings.warn('User provided device_type of \\'cuda\\', but CUDA is not available. Disabling')\n",
      "      2/99        0G   0.09106   0.02537     0.037        22       416:  50%|███/home/eisti/Desktop/ING3/usecase1/lib/python3.9/site-packages/torch/autocast_mode.py:141: UserWarning: User provided device_type of 'cuda', but CUDA is not available. Disabling\n",
      "  warnings.warn('User provided device_type of \\'cuda\\', but CUDA is not available. Disabling')\n",
      "      2/99        0G    0.0914   0.02554   0.03696        35       416:  56%|███/home/eisti/Desktop/ING3/usecase1/lib/python3.9/site-packages/torch/autocast_mode.py:141: UserWarning: User provided device_type of 'cuda', but CUDA is not available. Disabling\n",
      "  warnings.warn('User provided device_type of \\'cuda\\', but CUDA is not available. Disabling')\n",
      "      2/99        0G   0.09136   0.02538   0.03691        31       416:  62%|███/home/eisti/Desktop/ING3/usecase1/lib/python3.9/site-packages/torch/autocast_mode.py:141: UserWarning: User provided device_type of 'cuda', but CUDA is not available. Disabling\n",
      "  warnings.warn('User provided device_type of \\'cuda\\', but CUDA is not available. Disabling')\n",
      "      2/99        0G   0.09091   0.02533   0.03687        30       416:  69%|███/home/eisti/Desktop/ING3/usecase1/lib/python3.9/site-packages/torch/autocast_mode.py:141: UserWarning: User provided device_type of 'cuda', but CUDA is not available. Disabling\n",
      "  warnings.warn('User provided device_type of \\'cuda\\', but CUDA is not available. Disabling')\n",
      "      2/99        0G   0.09062   0.02523   0.03699        29       416:  75%|███/home/eisti/Desktop/ING3/usecase1/lib/python3.9/site-packages/torch/autocast_mode.py:141: UserWarning: User provided device_type of 'cuda', but CUDA is not available. Disabling\n",
      "  warnings.warn('User provided device_type of \\'cuda\\', but CUDA is not available. Disabling')\n",
      "      2/99        0G   0.08998   0.02562   0.03698        36       416:  81%|███/home/eisti/Desktop/ING3/usecase1/lib/python3.9/site-packages/torch/autocast_mode.py:141: UserWarning: User provided device_type of 'cuda', but CUDA is not available. Disabling\n",
      "  warnings.warn('User provided device_type of \\'cuda\\', but CUDA is not available. Disabling')\n",
      "      2/99        0G   0.08992   0.02572   0.03701        34       416:  88%|███/home/eisti/Desktop/ING3/usecase1/lib/python3.9/site-packages/torch/autocast_mode.py:141: UserWarning: User provided device_type of 'cuda', but CUDA is not available. Disabling\n",
      "  warnings.warn('User provided device_type of \\'cuda\\', but CUDA is not available. Disabling')\n",
      "      2/99        0G   0.09036   0.02515   0.03682        23       416:  94%|███/home/eisti/Desktop/ING3/usecase1/lib/python3.9/site-packages/torch/autocast_mode.py:141: UserWarning: User provided device_type of 'cuda', but CUDA is not available. Disabling\n",
      "  warnings.warn('User provided device_type of \\'cuda\\', but CUDA is not available. Disabling')\n",
      "      2/99        0G   0.08958   0.02512   0.03689        20       416: 100%|███\n",
      "               Class     Images     Labels          P          R     mAP@.5 mAP@\n",
      "                 all         25         27    0.00143      0.356    0.00732   0.000947\n",
      "\n",
      "     Epoch   gpu_mem       box       obj       cls    labels  img_size\n",
      "  0%|          | 0/16 [00:00<?, ?it/s]                                          /home/eisti/Desktop/ING3/usecase1/lib/python3.9/site-packages/torch/autocast_mode.py:141: UserWarning: User provided device_type of 'cuda', but CUDA is not available. Disabling\n",
      "  warnings.warn('User provided device_type of \\'cuda\\', but CUDA is not available. Disabling')\n",
      "      3/99        0G   0.09115    0.0294   0.03762        38       416:   6%|▋  /home/eisti/Desktop/ING3/usecase1/lib/python3.9/site-packages/torch/autocast_mode.py:141: UserWarning: User provided device_type of 'cuda', but CUDA is not available. Disabling\n",
      "  warnings.warn('User provided device_type of \\'cuda\\', but CUDA is not available. Disabling')\n",
      "      3/99        0G   0.09289   0.02523   0.03785        27       416:  12%|█▎ /home/eisti/Desktop/ING3/usecase1/lib/python3.9/site-packages/torch/autocast_mode.py:141: UserWarning: User provided device_type of 'cuda', but CUDA is not available. Disabling\n",
      "  warnings.warn('User provided device_type of \\'cuda\\', but CUDA is not available. Disabling')\n",
      "      3/99        0G   0.08814   0.02558    0.0373        29       416:  19%|█▉ /home/eisti/Desktop/ING3/usecase1/lib/python3.9/site-packages/torch/autocast_mode.py:141: UserWarning: User provided device_type of 'cuda', but CUDA is not available. Disabling\n",
      "  warnings.warn('User provided device_type of \\'cuda\\', but CUDA is not available. Disabling')\n",
      "      3/99        0G    0.0854   0.02497    0.0372        28       416:  25%|██▌/home/eisti/Desktop/ING3/usecase1/lib/python3.9/site-packages/torch/autocast_mode.py:141: UserWarning: User provided device_type of 'cuda', but CUDA is not available. Disabling\n",
      "  warnings.warn('User provided device_type of \\'cuda\\', but CUDA is not available. Disabling')\n"
     ]
    },
    {
     "name": "stdout",
     "output_type": "stream",
     "text": [
      "      3/99        0G   0.08626   0.02538   0.03683        34       416:  31%|███/home/eisti/Desktop/ING3/usecase1/lib/python3.9/site-packages/torch/autocast_mode.py:141: UserWarning: User provided device_type of 'cuda', but CUDA is not available. Disabling\n",
      "  warnings.warn('User provided device_type of \\'cuda\\', but CUDA is not available. Disabling')\n",
      "      3/99        0G   0.08689   0.02512   0.03651        30       416:  38%|███/home/eisti/Desktop/ING3/usecase1/lib/python3.9/site-packages/torch/autocast_mode.py:141: UserWarning: User provided device_type of 'cuda', but CUDA is not available. Disabling\n",
      "  warnings.warn('User provided device_type of \\'cuda\\', but CUDA is not available. Disabling')\n",
      "      3/99        0G   0.08607   0.02515   0.03654        31       416:  44%|███/home/eisti/Desktop/ING3/usecase1/lib/python3.9/site-packages/torch/autocast_mode.py:141: UserWarning: User provided device_type of 'cuda', but CUDA is not available. Disabling\n",
      "  warnings.warn('User provided device_type of \\'cuda\\', but CUDA is not available. Disabling')\n",
      "      3/99        0G   0.08701   0.02484   0.03652        28       416:  50%|███/home/eisti/Desktop/ING3/usecase1/lib/python3.9/site-packages/torch/autocast_mode.py:141: UserWarning: User provided device_type of 'cuda', but CUDA is not available. Disabling\n",
      "  warnings.warn('User provided device_type of \\'cuda\\', but CUDA is not available. Disabling')\n",
      "      3/99        0G   0.08597   0.02435   0.03666        23       416:  56%|███/home/eisti/Desktop/ING3/usecase1/lib/python3.9/site-packages/torch/autocast_mode.py:141: UserWarning: User provided device_type of 'cuda', but CUDA is not available. Disabling\n",
      "  warnings.warn('User provided device_type of \\'cuda\\', but CUDA is not available. Disabling')\n",
      "      3/99        0G    0.0865   0.02434   0.03664        34       416:  62%|███/home/eisti/Desktop/ING3/usecase1/lib/python3.9/site-packages/torch/autocast_mode.py:141: UserWarning: User provided device_type of 'cuda', but CUDA is not available. Disabling\n",
      "  warnings.warn('User provided device_type of \\'cuda\\', but CUDA is not available. Disabling')\n",
      "      3/99        0G   0.08593   0.02453   0.03656        33       416:  69%|███/home/eisti/Desktop/ING3/usecase1/lib/python3.9/site-packages/torch/autocast_mode.py:141: UserWarning: User provided device_type of 'cuda', but CUDA is not available. Disabling\n",
      "  warnings.warn('User provided device_type of \\'cuda\\', but CUDA is not available. Disabling')\n",
      "      3/99        0G   0.08493   0.02452   0.03652        30       416:  75%|███/home/eisti/Desktop/ING3/usecase1/lib/python3.9/site-packages/torch/autocast_mode.py:141: UserWarning: User provided device_type of 'cuda', but CUDA is not available. Disabling\n",
      "  warnings.warn('User provided device_type of \\'cuda\\', but CUDA is not available. Disabling')\n",
      "      3/99        0G   0.08271   0.02443   0.03565        29       416:  81%|███/home/eisti/Desktop/ING3/usecase1/lib/python3.9/site-packages/torch/autocast_mode.py:141: UserWarning: User provided device_type of 'cuda', but CUDA is not available. Disabling\n",
      "  warnings.warn('User provided device_type of \\'cuda\\', but CUDA is not available. Disabling')\n",
      "      3/99        0G   0.08278   0.02438   0.03574        31       416:  88%|███/home/eisti/Desktop/ING3/usecase1/lib/python3.9/site-packages/torch/autocast_mode.py:141: UserWarning: User provided device_type of 'cuda', but CUDA is not available. Disabling\n",
      "  warnings.warn('User provided device_type of \\'cuda\\', but CUDA is not available. Disabling')\n",
      "      3/99        0G   0.08265   0.02459   0.03579        34       416:  94%|███/home/eisti/Desktop/ING3/usecase1/lib/python3.9/site-packages/torch/autocast_mode.py:141: UserWarning: User provided device_type of 'cuda', but CUDA is not available. Disabling\n",
      "  warnings.warn('User provided device_type of \\'cuda\\', but CUDA is not available. Disabling')\n",
      "      3/99        0G    0.0807   0.02448   0.03504        20       416: 100%|███\n",
      "               Class     Images     Labels          P          R     mAP@.5 mAP@\n",
      "                 all         25         27    0.00161      0.356     0.0171    0.00193\n",
      "\n",
      "     Epoch   gpu_mem       box       obj       cls    labels  img_size\n",
      "  0%|          | 0/16 [00:00<?, ?it/s]                                          /home/eisti/Desktop/ING3/usecase1/lib/python3.9/site-packages/torch/autocast_mode.py:141: UserWarning: User provided device_type of 'cuda', but CUDA is not available. Disabling\n",
      "  warnings.warn('User provided device_type of \\'cuda\\', but CUDA is not available. Disabling')\n",
      "      4/99        0G   0.08514   0.02737   0.03503        33       416:   6%|▋  /home/eisti/Desktop/ING3/usecase1/lib/python3.9/site-packages/torch/autocast_mode.py:141: UserWarning: User provided device_type of 'cuda', but CUDA is not available. Disabling\n",
      "  warnings.warn('User provided device_type of \\'cuda\\', but CUDA is not available. Disabling')\n",
      "      4/99        0G   0.08559   0.02357   0.03692        25       416:  12%|█▎ /home/eisti/Desktop/ING3/usecase1/lib/python3.9/site-packages/torch/autocast_mode.py:141: UserWarning: User provided device_type of 'cuda', but CUDA is not available. Disabling\n",
      "  warnings.warn('User provided device_type of \\'cuda\\', but CUDA is not available. Disabling')\n",
      "      4/99        0G   0.08339   0.02372   0.03765        28       416:  19%|█▉ /home/eisti/Desktop/ING3/usecase1/lib/python3.9/site-packages/torch/autocast_mode.py:141: UserWarning: User provided device_type of 'cuda', but CUDA is not available. Disabling\n",
      "  warnings.warn('User provided device_type of \\'cuda\\', but CUDA is not available. Disabling')\n",
      "      4/99        0G   0.08329   0.02465   0.03701        33       416:  25%|██▌/home/eisti/Desktop/ING3/usecase1/lib/python3.9/site-packages/torch/autocast_mode.py:141: UserWarning: User provided device_type of 'cuda', but CUDA is not available. Disabling\n",
      "  warnings.warn('User provided device_type of \\'cuda\\', but CUDA is not available. Disabling')\n",
      "      4/99        0G   0.08267   0.02548   0.03694        36       416:  31%|███/home/eisti/Desktop/ING3/usecase1/lib/python3.9/site-packages/torch/autocast_mode.py:141: UserWarning: User provided device_type of 'cuda', but CUDA is not available. Disabling\n",
      "  warnings.warn('User provided device_type of \\'cuda\\', but CUDA is not available. Disabling')\n",
      "      4/99        0G     0.083   0.02527   0.03674        30       416:  38%|███/home/eisti/Desktop/ING3/usecase1/lib/python3.9/site-packages/torch/autocast_mode.py:141: UserWarning: User provided device_type of 'cuda', but CUDA is not available. Disabling\n",
      "  warnings.warn('User provided device_type of \\'cuda\\', but CUDA is not available. Disabling')\n",
      "      4/99        0G   0.08186   0.02565   0.03698        32       416:  44%|███/home/eisti/Desktop/ING3/usecase1/lib/python3.9/site-packages/torch/autocast_mode.py:141: UserWarning: User provided device_type of 'cuda', but CUDA is not available. Disabling\n",
      "  warnings.warn('User provided device_type of \\'cuda\\', but CUDA is not available. Disabling')\n",
      "      4/99        0G   0.08358   0.02506   0.03681        28       416:  50%|███/home/eisti/Desktop/ING3/usecase1/lib/python3.9/site-packages/torch/autocast_mode.py:141: UserWarning: User provided device_type of 'cuda', but CUDA is not available. Disabling\n",
      "  warnings.warn('User provided device_type of \\'cuda\\', but CUDA is not available. Disabling')\n",
      "      4/99        0G   0.08275   0.02455   0.03671        25       416:  56%|███/home/eisti/Desktop/ING3/usecase1/lib/python3.9/site-packages/torch/autocast_mode.py:141: UserWarning: User provided device_type of 'cuda', but CUDA is not available. Disabling\n",
      "  warnings.warn('User provided device_type of \\'cuda\\', but CUDA is not available. Disabling')\n",
      "      4/99        0G   0.08257   0.02506   0.03661        35       416:  62%|███/home/eisti/Desktop/ING3/usecase1/lib/python3.9/site-packages/torch/autocast_mode.py:141: UserWarning: User provided device_type of 'cuda', but CUDA is not available. Disabling\n",
      "  warnings.warn('User provided device_type of \\'cuda\\', but CUDA is not available. Disabling')\n",
      "      4/99        0G   0.08254   0.02506   0.03663        31       416:  69%|███/home/eisti/Desktop/ING3/usecase1/lib/python3.9/site-packages/torch/autocast_mode.py:141: UserWarning: User provided device_type of 'cuda', but CUDA is not available. Disabling\n",
      "  warnings.warn('User provided device_type of \\'cuda\\', but CUDA is not available. Disabling')\n"
     ]
    },
    {
     "name": "stdout",
     "output_type": "stream",
     "text": [
      "      4/99        0G   0.08252   0.02493   0.03654        30       416:  75%|███/home/eisti/Desktop/ING3/usecase1/lib/python3.9/site-packages/torch/autocast_mode.py:141: UserWarning: User provided device_type of 'cuda', but CUDA is not available. Disabling\n",
      "  warnings.warn('User provided device_type of \\'cuda\\', but CUDA is not available. Disabling')\n",
      "      4/99        0G   0.08237   0.02489   0.03644        29       416:  81%|███/home/eisti/Desktop/ING3/usecase1/lib/python3.9/site-packages/torch/autocast_mode.py:141: UserWarning: User provided device_type of 'cuda', but CUDA is not available. Disabling\n",
      "  warnings.warn('User provided device_type of \\'cuda\\', but CUDA is not available. Disabling')\n",
      "      4/99        0G   0.08246   0.02519   0.03645        36       416:  88%|███/home/eisti/Desktop/ING3/usecase1/lib/python3.9/site-packages/torch/autocast_mode.py:141: UserWarning: User provided device_type of 'cuda', but CUDA is not available. Disabling\n",
      "  warnings.warn('User provided device_type of \\'cuda\\', but CUDA is not available. Disabling')\n",
      "      4/99        0G   0.08209   0.02538   0.03637        33       416:  94%|███/home/eisti/Desktop/ING3/usecase1/lib/python3.9/site-packages/torch/autocast_mode.py:141: UserWarning: User provided device_type of 'cuda', but CUDA is not available. Disabling\n",
      "  warnings.warn('User provided device_type of \\'cuda\\', but CUDA is not available. Disabling')\n",
      "      4/99        0G   0.08234   0.02523   0.03641        22       416: 100%|███\n",
      "               Class     Images     Labels          P          R     mAP@.5 mAP@\n",
      "                 all         25         27     0.0013      0.261    0.00946    0.00158\n",
      "\n",
      "     Epoch   gpu_mem       box       obj       cls    labels  img_size\n",
      "  0%|          | 0/16 [00:00<?, ?it/s]                                          /home/eisti/Desktop/ING3/usecase1/lib/python3.9/site-packages/torch/autocast_mode.py:141: UserWarning: User provided device_type of 'cuda', but CUDA is not available. Disabling\n",
      "  warnings.warn('User provided device_type of \\'cuda\\', but CUDA is not available. Disabling')\n",
      "      5/99        0G   0.07547   0.03346    0.0346        40       416:   6%|▋  /home/eisti/Desktop/ING3/usecase1/lib/python3.9/site-packages/torch/autocast_mode.py:141: UserWarning: User provided device_type of 'cuda', but CUDA is not available. Disabling\n",
      "  warnings.warn('User provided device_type of \\'cuda\\', but CUDA is not available. Disabling')\n",
      "      5/99        0G   0.07843   0.02774   0.03578        27       416:  12%|█▎ /home/eisti/Desktop/ING3/usecase1/lib/python3.9/site-packages/torch/autocast_mode.py:141: UserWarning: User provided device_type of 'cuda', but CUDA is not available. Disabling\n",
      "  warnings.warn('User provided device_type of \\'cuda\\', but CUDA is not available. Disabling')\n",
      "      5/99        0G    0.0803   0.02698   0.03668        28       416:  19%|█▉ /home/eisti/Desktop/ING3/usecase1/lib/python3.9/site-packages/torch/autocast_mode.py:141: UserWarning: User provided device_type of 'cuda', but CUDA is not available. Disabling\n",
      "  warnings.warn('User provided device_type of \\'cuda\\', but CUDA is not available. Disabling')\n",
      "      5/99        0G   0.08281   0.02587   0.03626        30       416:  25%|██▌/home/eisti/Desktop/ING3/usecase1/lib/python3.9/site-packages/torch/autocast_mode.py:141: UserWarning: User provided device_type of 'cuda', but CUDA is not available. Disabling\n",
      "  warnings.warn('User provided device_type of \\'cuda\\', but CUDA is not available. Disabling')\n",
      "      5/99        0G   0.08073    0.0259   0.03638        32       416:  31%|███/home/eisti/Desktop/ING3/usecase1/lib/python3.9/site-packages/torch/autocast_mode.py:141: UserWarning: User provided device_type of 'cuda', but CUDA is not available. Disabling\n",
      "  warnings.warn('User provided device_type of \\'cuda\\', but CUDA is not available. Disabling')\n",
      "      5/99        0G   0.08006   0.02537   0.03625        29       416:  38%|███/home/eisti/Desktop/ING3/usecase1/lib/python3.9/site-packages/torch/autocast_mode.py:141: UserWarning: User provided device_type of 'cuda', but CUDA is not available. Disabling\n",
      "  warnings.warn('User provided device_type of \\'cuda\\', but CUDA is not available. Disabling')\n",
      "      5/99        0G   0.08041   0.02514   0.03621        33       416:  44%|███/home/eisti/Desktop/ING3/usecase1/lib/python3.9/site-packages/torch/autocast_mode.py:141: UserWarning: User provided device_type of 'cuda', but CUDA is not available. Disabling\n",
      "  warnings.warn('User provided device_type of \\'cuda\\', but CUDA is not available. Disabling')\n",
      "      5/99        0G   0.08076   0.02498   0.03618        28       416:  50%|███/home/eisti/Desktop/ING3/usecase1/lib/python3.9/site-packages/torch/autocast_mode.py:141: UserWarning: User provided device_type of 'cuda', but CUDA is not available. Disabling\n",
      "  warnings.warn('User provided device_type of \\'cuda\\', but CUDA is not available. Disabling')\n",
      "      5/99        0G    0.0817   0.02458   0.03587        29       416:  56%|███/home/eisti/Desktop/ING3/usecase1/lib/python3.9/site-packages/torch/autocast_mode.py:141: UserWarning: User provided device_type of 'cuda', but CUDA is not available. Disabling\n",
      "  warnings.warn('User provided device_type of \\'cuda\\', but CUDA is not available. Disabling')\n",
      "      5/99        0G   0.08236   0.02436    0.0361        31       416:  62%|███/home/eisti/Desktop/ING3/usecase1/lib/python3.9/site-packages/torch/autocast_mode.py:141: UserWarning: User provided device_type of 'cuda', but CUDA is not available. Disabling\n",
      "  warnings.warn('User provided device_type of \\'cuda\\', but CUDA is not available. Disabling')\n",
      "      5/99        0G   0.08326   0.02409   0.03609        27       416:  69%|███/home/eisti/Desktop/ING3/usecase1/lib/python3.9/site-packages/torch/autocast_mode.py:141: UserWarning: User provided device_type of 'cuda', but CUDA is not available. Disabling\n",
      "  warnings.warn('User provided device_type of \\'cuda\\', but CUDA is not available. Disabling')\n",
      "      5/99        0G   0.08361    0.0237   0.03615        27       416:  75%|███/home/eisti/Desktop/ING3/usecase1/lib/python3.9/site-packages/torch/autocast_mode.py:141: UserWarning: User provided device_type of 'cuda', but CUDA is not available. Disabling\n",
      "  warnings.warn('User provided device_type of \\'cuda\\', but CUDA is not available. Disabling')\n",
      "      5/99        0G   0.08353   0.02387   0.03608        31       416:  81%|███/home/eisti/Desktop/ING3/usecase1/lib/python3.9/site-packages/torch/autocast_mode.py:141: UserWarning: User provided device_type of 'cuda', but CUDA is not available. Disabling\n",
      "  warnings.warn('User provided device_type of \\'cuda\\', but CUDA is not available. Disabling')\n",
      "      5/99        0G    0.0828   0.02412   0.03604        34       416:  88%|███/home/eisti/Desktop/ING3/usecase1/lib/python3.9/site-packages/torch/autocast_mode.py:141: UserWarning: User provided device_type of 'cuda', but CUDA is not available. Disabling\n",
      "  warnings.warn('User provided device_type of \\'cuda\\', but CUDA is not available. Disabling')\n",
      "      5/99        0G   0.08248   0.02452   0.03607        37       416:  94%|███/home/eisti/Desktop/ING3/usecase1/lib/python3.9/site-packages/torch/autocast_mode.py:141: UserWarning: User provided device_type of 'cuda', but CUDA is not available. Disabling\n",
      "  warnings.warn('User provided device_type of \\'cuda\\', but CUDA is not available. Disabling')\n",
      "      5/99        0G   0.08069   0.02423   0.03529        19       416: 100%|███\n",
      "               Class     Images     Labels          P          R     mAP@.5 mAP@\n",
      "                 all         25         27    0.00147      0.289    0.00193   0.000388\n",
      "\n",
      "     Epoch   gpu_mem       box       obj       cls    labels  img_size\n",
      "  0%|          | 0/16 [00:00<?, ?it/s]                                          /home/eisti/Desktop/ING3/usecase1/lib/python3.9/site-packages/torch/autocast_mode.py:141: UserWarning: User provided device_type of 'cuda', but CUDA is not available. Disabling\n",
      "  warnings.warn('User provided device_type of \\'cuda\\', but CUDA is not available. Disabling')\n",
      "      6/99        0G   0.07198   0.02813   0.03869        34       416:   6%|▋  /home/eisti/Desktop/ING3/usecase1/lib/python3.9/site-packages/torch/autocast_mode.py:141: UserWarning: User provided device_type of 'cuda', but CUDA is not available. Disabling\n",
      "  warnings.warn('User provided device_type of \\'cuda\\', but CUDA is not available. Disabling')\n"
     ]
    },
    {
     "name": "stdout",
     "output_type": "stream",
     "text": [
      "      6/99        0G   0.07509    0.0279   0.03761        35       416:  12%|█▎ /home/eisti/Desktop/ING3/usecase1/lib/python3.9/site-packages/torch/autocast_mode.py:141: UserWarning: User provided device_type of 'cuda', but CUDA is not available. Disabling\n",
      "  warnings.warn('User provided device_type of \\'cuda\\', but CUDA is not available. Disabling')\n",
      "      6/99        0G   0.07486   0.02929   0.03704        36       416:  19%|█▉ /home/eisti/Desktop/ING3/usecase1/lib/python3.9/site-packages/torch/autocast_mode.py:141: UserWarning: User provided device_type of 'cuda', but CUDA is not available. Disabling\n",
      "  warnings.warn('User provided device_type of \\'cuda\\', but CUDA is not available. Disabling')\n",
      "      6/99        0G   0.07696   0.02706   0.03695        27       416:  25%|██▌/home/eisti/Desktop/ING3/usecase1/lib/python3.9/site-packages/torch/autocast_mode.py:141: UserWarning: User provided device_type of 'cuda', but CUDA is not available. Disabling\n",
      "  warnings.warn('User provided device_type of \\'cuda\\', but CUDA is not available. Disabling')\n",
      "      6/99        0G   0.07665   0.02698   0.03675        34       416:  31%|███/home/eisti/Desktop/ING3/usecase1/lib/python3.9/site-packages/torch/autocast_mode.py:141: UserWarning: User provided device_type of 'cuda', but CUDA is not available. Disabling\n",
      "  warnings.warn('User provided device_type of \\'cuda\\', but CUDA is not available. Disabling')\n",
      "      6/99        0G    0.0767   0.02629    0.0367        30       416:  38%|███/home/eisti/Desktop/ING3/usecase1/lib/python3.9/site-packages/torch/autocast_mode.py:141: UserWarning: User provided device_type of 'cuda', but CUDA is not available. Disabling\n",
      "  warnings.warn('User provided device_type of \\'cuda\\', but CUDA is not available. Disabling')\n",
      "      6/99        0G   0.07803   0.02564   0.03635        26       416:  44%|███/home/eisti/Desktop/ING3/usecase1/lib/python3.9/site-packages/torch/autocast_mode.py:141: UserWarning: User provided device_type of 'cuda', but CUDA is not available. Disabling\n",
      "  warnings.warn('User provided device_type of \\'cuda\\', but CUDA is not available. Disabling')\n",
      "      6/99        0G   0.07812   0.02513   0.03626        26       416:  50%|███/home/eisti/Desktop/ING3/usecase1/lib/python3.9/site-packages/torch/autocast_mode.py:141: UserWarning: User provided device_type of 'cuda', but CUDA is not available. Disabling\n",
      "  warnings.warn('User provided device_type of \\'cuda\\', but CUDA is not available. Disabling')\n",
      "      6/99        0G   0.07754   0.02551   0.03615        36       416:  56%|███/home/eisti/Desktop/ING3/usecase1/lib/python3.9/site-packages/torch/autocast_mode.py:141: UserWarning: User provided device_type of 'cuda', but CUDA is not available. Disabling\n",
      "  warnings.warn('User provided device_type of \\'cuda\\', but CUDA is not available. Disabling')\n",
      "      6/99        0G   0.07794    0.0251   0.03596        27       416:  62%|███/home/eisti/Desktop/ING3/usecase1/lib/python3.9/site-packages/torch/autocast_mode.py:141: UserWarning: User provided device_type of 'cuda', but CUDA is not available. Disabling\n",
      "  warnings.warn('User provided device_type of \\'cuda\\', but CUDA is not available. Disabling')\n",
      "      6/99        0G   0.07848   0.02452   0.03583        22       416:  69%|███/home/eisti/Desktop/ING3/usecase1/lib/python3.9/site-packages/torch/autocast_mode.py:141: UserWarning: User provided device_type of 'cuda', but CUDA is not available. Disabling\n",
      "  warnings.warn('User provided device_type of \\'cuda\\', but CUDA is not available. Disabling')\n",
      "      6/99        0G   0.07813   0.02492    0.0357        33       416:  75%|███/home/eisti/Desktop/ING3/usecase1/lib/python3.9/site-packages/torch/autocast_mode.py:141: UserWarning: User provided device_type of 'cuda', but CUDA is not available. Disabling\n",
      "  warnings.warn('User provided device_type of \\'cuda\\', but CUDA is not available. Disabling')\n",
      "      6/99        0G   0.07835   0.02448   0.03564        24       416:  81%|███/home/eisti/Desktop/ING3/usecase1/lib/python3.9/site-packages/torch/autocast_mode.py:141: UserWarning: User provided device_type of 'cuda', but CUDA is not available. Disabling\n",
      "  warnings.warn('User provided device_type of \\'cuda\\', but CUDA is not available. Disabling')\n",
      "      6/99        0G   0.07792   0.02497   0.03571        38       416:  88%|███/home/eisti/Desktop/ING3/usecase1/lib/python3.9/site-packages/torch/autocast_mode.py:141: UserWarning: User provided device_type of 'cuda', but CUDA is not available. Disabling\n",
      "  warnings.warn('User provided device_type of \\'cuda\\', but CUDA is not available. Disabling')\n",
      "      6/99        0G   0.07885   0.02475   0.03563        29       416:  94%|███/home/eisti/Desktop/ING3/usecase1/lib/python3.9/site-packages/torch/autocast_mode.py:141: UserWarning: User provided device_type of 'cuda', but CUDA is not available. Disabling\n",
      "  warnings.warn('User provided device_type of \\'cuda\\', but CUDA is not available. Disabling')\n",
      "      6/99        0G    0.0782   0.02445   0.03566        19       416: 100%|███\n",
      "               Class     Images     Labels          P          R     mAP@.5 mAP@\n",
      "                 all         25         27    0.00164      0.356    0.00195   0.000395\n",
      "\n",
      "     Epoch   gpu_mem       box       obj       cls    labels  img_size\n",
      "  0%|          | 0/16 [00:00<?, ?it/s]                                          /home/eisti/Desktop/ING3/usecase1/lib/python3.9/site-packages/torch/autocast_mode.py:141: UserWarning: User provided device_type of 'cuda', but CUDA is not available. Disabling\n",
      "  warnings.warn('User provided device_type of \\'cuda\\', but CUDA is not available. Disabling')\n",
      "      7/99        0G   0.07757   0.02726   0.03571        31       416:   6%|▋  /home/eisti/Desktop/ING3/usecase1/lib/python3.9/site-packages/torch/autocast_mode.py:141: UserWarning: User provided device_type of 'cuda', but CUDA is not available. Disabling\n",
      "  warnings.warn('User provided device_type of \\'cuda\\', but CUDA is not available. Disabling')\n",
      "      7/99        0G   0.07659   0.02617   0.03555        32       416:  12%|█▎ /home/eisti/Desktop/ING3/usecase1/lib/python3.9/site-packages/torch/autocast_mode.py:141: UserWarning: User provided device_type of 'cuda', but CUDA is not available. Disabling\n",
      "  warnings.warn('User provided device_type of \\'cuda\\', but CUDA is not available. Disabling')\n",
      "      7/99        0G    0.0721   0.02575   0.03722        31       416:  19%|█▉ /home/eisti/Desktop/ING3/usecase1/lib/python3.9/site-packages/torch/autocast_mode.py:141: UserWarning: User provided device_type of 'cuda', but CUDA is not available. Disabling\n",
      "  warnings.warn('User provided device_type of \\'cuda\\', but CUDA is not available. Disabling')\n",
      "      7/99        0G   0.07289   0.02682   0.03708        37       416:  25%|██▌/home/eisti/Desktop/ING3/usecase1/lib/python3.9/site-packages/torch/autocast_mode.py:141: UserWarning: User provided device_type of 'cuda', but CUDA is not available. Disabling\n",
      "  warnings.warn('User provided device_type of \\'cuda\\', but CUDA is not available. Disabling')\n",
      "      7/99        0G   0.07232   0.02698   0.03675        31       416:  31%|███/home/eisti/Desktop/ING3/usecase1/lib/python3.9/site-packages/torch/autocast_mode.py:141: UserWarning: User provided device_type of 'cuda', but CUDA is not available. Disabling\n",
      "  warnings.warn('User provided device_type of \\'cuda\\', but CUDA is not available. Disabling')\n",
      "      7/99        0G   0.07385   0.02727   0.03672        36       416:  38%|███/home/eisti/Desktop/ING3/usecase1/lib/python3.9/site-packages/torch/autocast_mode.py:141: UserWarning: User provided device_type of 'cuda', but CUDA is not available. Disabling\n",
      "  warnings.warn('User provided device_type of \\'cuda\\', but CUDA is not available. Disabling')\n",
      "      7/99        0G   0.07473   0.02811   0.03674        40       416:  44%|███/home/eisti/Desktop/ING3/usecase1/lib/python3.9/site-packages/torch/autocast_mode.py:141: UserWarning: User provided device_type of 'cuda', but CUDA is not available. Disabling\n",
      "  warnings.warn('User provided device_type of \\'cuda\\', but CUDA is not available. Disabling')\n",
      "      7/99        0G   0.07487   0.02836   0.03697        36       416:  50%|███/home/eisti/Desktop/ING3/usecase1/lib/python3.9/site-packages/torch/autocast_mode.py:141: UserWarning: User provided device_type of 'cuda', but CUDA is not available. Disabling\n",
      "  warnings.warn('User provided device_type of \\'cuda\\', but CUDA is not available. Disabling')\n"
     ]
    },
    {
     "name": "stdout",
     "output_type": "stream",
     "text": [
      "      7/99        0G   0.07595   0.02732    0.0367        22       416:  56%|███/home/eisti/Desktop/ING3/usecase1/lib/python3.9/site-packages/torch/autocast_mode.py:141: UserWarning: User provided device_type of 'cuda', but CUDA is not available. Disabling\n",
      "  warnings.warn('User provided device_type of \\'cuda\\', but CUDA is not available. Disabling')\n",
      "      7/99        0G   0.07686   0.02642   0.03647        23       416:  62%|███/home/eisti/Desktop/ING3/usecase1/lib/python3.9/site-packages/torch/autocast_mode.py:141: UserWarning: User provided device_type of 'cuda', but CUDA is not available. Disabling\n",
      "  warnings.warn('User provided device_type of \\'cuda\\', but CUDA is not available. Disabling')\n",
      "      7/99        0G   0.07678   0.02657   0.03639        33       416:  69%|███/home/eisti/Desktop/ING3/usecase1/lib/python3.9/site-packages/torch/autocast_mode.py:141: UserWarning: User provided device_type of 'cuda', but CUDA is not available. Disabling\n",
      "  warnings.warn('User provided device_type of \\'cuda\\', but CUDA is not available. Disabling')\n",
      "      7/99        0G   0.07676   0.02671   0.03623        31       416:  75%|███/home/eisti/Desktop/ING3/usecase1/lib/python3.9/site-packages/torch/autocast_mode.py:141: UserWarning: User provided device_type of 'cuda', but CUDA is not available. Disabling\n",
      "  warnings.warn('User provided device_type of \\'cuda\\', but CUDA is not available. Disabling')\n",
      "      7/99        0G   0.07759   0.02639    0.0361        31       416:  81%|███/home/eisti/Desktop/ING3/usecase1/lib/python3.9/site-packages/torch/autocast_mode.py:141: UserWarning: User provided device_type of 'cuda', but CUDA is not available. Disabling\n",
      "  warnings.warn('User provided device_type of \\'cuda\\', but CUDA is not available. Disabling')\n",
      "      7/99        0G   0.07757   0.02642   0.03596        31       416:  88%|███/home/eisti/Desktop/ING3/usecase1/lib/python3.9/site-packages/torch/autocast_mode.py:141: UserWarning: User provided device_type of 'cuda', but CUDA is not available. Disabling\n",
      "  warnings.warn('User provided device_type of \\'cuda\\', but CUDA is not available. Disabling')\n",
      "      7/99        0G   0.07742   0.02631   0.03583        30       416:  94%|███/home/eisti/Desktop/ING3/usecase1/lib/python3.9/site-packages/torch/autocast_mode.py:141: UserWarning: User provided device_type of 'cuda', but CUDA is not available. Disabling\n",
      "  warnings.warn('User provided device_type of \\'cuda\\', but CUDA is not available. Disabling')\n",
      "      7/99        0G   0.07878   0.02594    0.0358        20       416: 100%|███\n",
      "               Class     Images     Labels          P          R     mAP@.5 mAP@\n",
      "                 all         25         27    0.00312     0.0278    0.00183    0.00045\n",
      "\n",
      "     Epoch   gpu_mem       box       obj       cls    labels  img_size\n",
      "  0%|          | 0/16 [00:00<?, ?it/s]                                          /home/eisti/Desktop/ING3/usecase1/lib/python3.9/site-packages/torch/autocast_mode.py:141: UserWarning: User provided device_type of 'cuda', but CUDA is not available. Disabling\n",
      "  warnings.warn('User provided device_type of \\'cuda\\', but CUDA is not available. Disabling')\n",
      "      8/99        0G    0.0757   0.02894   0.03474        35       416:   6%|▋  /home/eisti/Desktop/ING3/usecase1/lib/python3.9/site-packages/torch/autocast_mode.py:141: UserWarning: User provided device_type of 'cuda', but CUDA is not available. Disabling\n",
      "  warnings.warn('User provided device_type of \\'cuda\\', but CUDA is not available. Disabling')\n",
      "      8/99        0G   0.07784   0.02916   0.03478        35       416:  12%|█▎ /home/eisti/Desktop/ING3/usecase1/lib/python3.9/site-packages/torch/autocast_mode.py:141: UserWarning: User provided device_type of 'cuda', but CUDA is not available. Disabling\n",
      "  warnings.warn('User provided device_type of \\'cuda\\', but CUDA is not available. Disabling')\n",
      "      8/99        0G   0.07821   0.03009   0.03478        37       416:  19%|█▉ /home/eisti/Desktop/ING3/usecase1/lib/python3.9/site-packages/torch/autocast_mode.py:141: UserWarning: User provided device_type of 'cuda', but CUDA is not available. Disabling\n",
      "  warnings.warn('User provided device_type of \\'cuda\\', but CUDA is not available. Disabling')\n",
      "      8/99        0G   0.07987   0.02774   0.03534        28       416:  25%|██▌/home/eisti/Desktop/ING3/usecase1/lib/python3.9/site-packages/torch/autocast_mode.py:141: UserWarning: User provided device_type of 'cuda', but CUDA is not available. Disabling\n",
      "  warnings.warn('User provided device_type of \\'cuda\\', but CUDA is not available. Disabling')\n",
      "      8/99        0G    0.0785   0.02839   0.03515        36       416:  31%|███/home/eisti/Desktop/ING3/usecase1/lib/python3.9/site-packages/torch/autocast_mode.py:141: UserWarning: User provided device_type of 'cuda', but CUDA is not available. Disabling\n",
      "  warnings.warn('User provided device_type of \\'cuda\\', but CUDA is not available. Disabling')\n",
      "      8/99        0G   0.07403   0.02702   0.03335        24       416:  38%|███/home/eisti/Desktop/ING3/usecase1/lib/python3.9/site-packages/torch/autocast_mode.py:141: UserWarning: User provided device_type of 'cuda', but CUDA is not available. Disabling\n",
      "  warnings.warn('User provided device_type of \\'cuda\\', but CUDA is not available. Disabling')\n",
      "      8/99        0G   0.07407   0.02666   0.03369        31       416:  44%|███/home/eisti/Desktop/ING3/usecase1/lib/python3.9/site-packages/torch/autocast_mode.py:141: UserWarning: User provided device_type of 'cuda', but CUDA is not available. Disabling\n",
      "  warnings.warn('User provided device_type of \\'cuda\\', but CUDA is not available. Disabling')\n",
      "      8/99        0G   0.07541   0.02565   0.03394        22       416:  50%|███/home/eisti/Desktop/ING3/usecase1/lib/python3.9/site-packages/torch/autocast_mode.py:141: UserWarning: User provided device_type of 'cuda', but CUDA is not available. Disabling\n",
      "  warnings.warn('User provided device_type of \\'cuda\\', but CUDA is not available. Disabling')\n",
      "      8/99        0G    0.0762    0.0253    0.0342        28       416:  56%|███/home/eisti/Desktop/ING3/usecase1/lib/python3.9/site-packages/torch/autocast_mode.py:141: UserWarning: User provided device_type of 'cuda', but CUDA is not available. Disabling\n",
      "  warnings.warn('User provided device_type of \\'cuda\\', but CUDA is not available. Disabling')\n",
      "      8/99        0G   0.07635   0.02502   0.03425        25       416:  62%|███/home/eisti/Desktop/ING3/usecase1/lib/python3.9/site-packages/torch/autocast_mode.py:141: UserWarning: User provided device_type of 'cuda', but CUDA is not available. Disabling\n",
      "  warnings.warn('User provided device_type of \\'cuda\\', but CUDA is not available. Disabling')\n",
      "      8/99        0G    0.0771   0.02461   0.03418        27       416:  69%|███/home/eisti/Desktop/ING3/usecase1/lib/python3.9/site-packages/torch/autocast_mode.py:141: UserWarning: User provided device_type of 'cuda', but CUDA is not available. Disabling\n",
      "  warnings.warn('User provided device_type of \\'cuda\\', but CUDA is not available. Disabling')\n",
      "      8/99        0G   0.07631   0.02507   0.03427        36       416:  75%|███/home/eisti/Desktop/ING3/usecase1/lib/python3.9/site-packages/torch/autocast_mode.py:141: UserWarning: User provided device_type of 'cuda', but CUDA is not available. Disabling\n",
      "  warnings.warn('User provided device_type of \\'cuda\\', but CUDA is not available. Disabling')\n",
      "      8/99        0G    0.0773   0.02438   0.03435        24       416:  81%|███/home/eisti/Desktop/ING3/usecase1/lib/python3.9/site-packages/torch/autocast_mode.py:141: UserWarning: User provided device_type of 'cuda', but CUDA is not available. Disabling\n",
      "  warnings.warn('User provided device_type of \\'cuda\\', but CUDA is not available. Disabling')\n",
      "      8/99        0G   0.07741   0.02476   0.03437        34       416:  88%|███/home/eisti/Desktop/ING3/usecase1/lib/python3.9/site-packages/torch/autocast_mode.py:141: UserWarning: User provided device_type of 'cuda', but CUDA is not available. Disabling\n",
      "  warnings.warn('User provided device_type of \\'cuda\\', but CUDA is not available. Disabling')\n",
      "      8/99        0G   0.07678   0.02533    0.0344        38       416:  94%|███/home/eisti/Desktop/ING3/usecase1/lib/python3.9/site-packages/torch/autocast_mode.py:141: UserWarning: User provided device_type of 'cuda', but CUDA is not available. Disabling\n",
      "  warnings.warn('User provided device_type of \\'cuda\\', but CUDA is not available. Disabling')\n"
     ]
    },
    {
     "name": "stdout",
     "output_type": "stream",
     "text": [
      "      8/99        0G   0.07663   0.02559   0.03473        27       416: 100%|███\n",
      "               Class     Images     Labels          P          R     mAP@.5 mAP@\n",
      "                 all         25         27    0.00116      0.222    0.00111   0.000329\n",
      "\n",
      "     Epoch   gpu_mem       box       obj       cls    labels  img_size\n",
      "  0%|          | 0/16 [00:00<?, ?it/s]                                          /home/eisti/Desktop/ING3/usecase1/lib/python3.9/site-packages/torch/autocast_mode.py:141: UserWarning: User provided device_type of 'cuda', but CUDA is not available. Disabling\n",
      "  warnings.warn('User provided device_type of \\'cuda\\', but CUDA is not available. Disabling')\n",
      "      9/99        0G    0.0863      0.02   0.03411        26       416:   6%|▋  /home/eisti/Desktop/ING3/usecase1/lib/python3.9/site-packages/torch/autocast_mode.py:141: UserWarning: User provided device_type of 'cuda', but CUDA is not available. Disabling\n",
      "  warnings.warn('User provided device_type of \\'cuda\\', but CUDA is not available. Disabling')\n",
      "      9/99        0G   0.08263    0.0256   0.03372        39       416:  12%|█▎ /home/eisti/Desktop/ING3/usecase1/lib/python3.9/site-packages/torch/autocast_mode.py:141: UserWarning: User provided device_type of 'cuda', but CUDA is not available. Disabling\n",
      "  warnings.warn('User provided device_type of \\'cuda\\', but CUDA is not available. Disabling')\n",
      "      9/99        0G   0.08177   0.02386   0.03386        25       416:  19%|█▉ /home/eisti/Desktop/ING3/usecase1/lib/python3.9/site-packages/torch/autocast_mode.py:141: UserWarning: User provided device_type of 'cuda', but CUDA is not available. Disabling\n",
      "  warnings.warn('User provided device_type of \\'cuda\\', but CUDA is not available. Disabling')\n",
      "      9/99        0G   0.07933   0.02415   0.03513        32       416:  25%|██▌/home/eisti/Desktop/ING3/usecase1/lib/python3.9/site-packages/torch/autocast_mode.py:141: UserWarning: User provided device_type of 'cuda', but CUDA is not available. Disabling\n",
      "  warnings.warn('User provided device_type of \\'cuda\\', but CUDA is not available. Disabling')\n",
      "      9/99        0G   0.07734    0.0248   0.03508        33       416:  31%|███/home/eisti/Desktop/ING3/usecase1/lib/python3.9/site-packages/torch/autocast_mode.py:141: UserWarning: User provided device_type of 'cuda', but CUDA is not available. Disabling\n",
      "  warnings.warn('User provided device_type of \\'cuda\\', but CUDA is not available. Disabling')\n",
      "      9/99        0G   0.07698   0.02407   0.03523        26       416:  38%|███/home/eisti/Desktop/ING3/usecase1/lib/python3.9/site-packages/torch/autocast_mode.py:141: UserWarning: User provided device_type of 'cuda', but CUDA is not available. Disabling\n",
      "  warnings.warn('User provided device_type of \\'cuda\\', but CUDA is not available. Disabling')\n",
      "      9/99        0G   0.07687   0.02431   0.03504        33       416:  44%|███/home/eisti/Desktop/ING3/usecase1/lib/python3.9/site-packages/torch/autocast_mode.py:141: UserWarning: User provided device_type of 'cuda', but CUDA is not available. Disabling\n",
      "  warnings.warn('User provided device_type of \\'cuda\\', but CUDA is not available. Disabling')\n",
      "      9/99        0G   0.07781   0.02442   0.03493        33       416:  50%|███/home/eisti/Desktop/ING3/usecase1/lib/python3.9/site-packages/torch/autocast_mode.py:141: UserWarning: User provided device_type of 'cuda', but CUDA is not available. Disabling\n",
      "  warnings.warn('User provided device_type of \\'cuda\\', but CUDA is not available. Disabling')\n",
      "      9/99        0G    0.0778   0.02491   0.03494        32       416:  56%|███/home/eisti/Desktop/ING3/usecase1/lib/python3.9/site-packages/torch/autocast_mode.py:141: UserWarning: User provided device_type of 'cuda', but CUDA is not available. Disabling\n",
      "  warnings.warn('User provided device_type of \\'cuda\\', but CUDA is not available. Disabling')\n",
      "      9/99        0G    0.0784   0.02461    0.0351        28       416:  62%|███/home/eisti/Desktop/ING3/usecase1/lib/python3.9/site-packages/torch/autocast_mode.py:141: UserWarning: User provided device_type of 'cuda', but CUDA is not available. Disabling\n",
      "  warnings.warn('User provided device_type of \\'cuda\\', but CUDA is not available. Disabling')\n",
      "      9/99        0G   0.07805   0.02438   0.03534        29       416:  69%|███/home/eisti/Desktop/ING3/usecase1/lib/python3.9/site-packages/torch/autocast_mode.py:141: UserWarning: User provided device_type of 'cuda', but CUDA is not available. Disabling\n",
      "  warnings.warn('User provided device_type of \\'cuda\\', but CUDA is not available. Disabling')\n",
      "      9/99        0G   0.07846   0.02444   0.03538        32       416:  75%|███/home/eisti/Desktop/ING3/usecase1/lib/python3.9/site-packages/torch/autocast_mode.py:141: UserWarning: User provided device_type of 'cuda', but CUDA is not available. Disabling\n",
      "  warnings.warn('User provided device_type of \\'cuda\\', but CUDA is not available. Disabling')\n",
      "      9/99        0G   0.07779    0.0253   0.03522        42       416:  81%|███/home/eisti/Desktop/ING3/usecase1/lib/python3.9/site-packages/torch/autocast_mode.py:141: UserWarning: User provided device_type of 'cuda', but CUDA is not available. Disabling\n",
      "  warnings.warn('User provided device_type of \\'cuda\\', but CUDA is not available. Disabling')\n",
      "      9/99        0G   0.07746   0.02616   0.03518        42       416:  88%|███/home/eisti/Desktop/ING3/usecase1/lib/python3.9/site-packages/torch/autocast_mode.py:141: UserWarning: User provided device_type of 'cuda', but CUDA is not available. Disabling\n",
      "  warnings.warn('User provided device_type of \\'cuda\\', but CUDA is not available. Disabling')\n",
      "      9/99        0G   0.07765   0.02566   0.03513        22       416:  94%|███/home/eisti/Desktop/ING3/usecase1/lib/python3.9/site-packages/torch/autocast_mode.py:141: UserWarning: User provided device_type of 'cuda', but CUDA is not available. Disabling\n",
      "  warnings.warn('User provided device_type of \\'cuda\\', but CUDA is not available. Disabling')\n",
      "      9/99        0G   0.07621    0.0251   0.03448        14       416: 100%|███\n",
      "               Class     Images     Labels          P          R     mAP@.5 mAP@\n",
      "                 all         25         27    0.00116      0.222    0.00113    0.00036\n",
      "\n",
      "     Epoch   gpu_mem       box       obj       cls    labels  img_size\n",
      "  0%|          | 0/16 [00:00<?, ?it/s]                                          /home/eisti/Desktop/ING3/usecase1/lib/python3.9/site-packages/torch/autocast_mode.py:141: UserWarning: User provided device_type of 'cuda', but CUDA is not available. Disabling\n",
      "  warnings.warn('User provided device_type of \\'cuda\\', but CUDA is not available. Disabling')\n",
      "     10/99        0G   0.06876   0.02696   0.03434        28       416:   6%|▋  /home/eisti/Desktop/ING3/usecase1/lib/python3.9/site-packages/torch/autocast_mode.py:141: UserWarning: User provided device_type of 'cuda', but CUDA is not available. Disabling\n",
      "  warnings.warn('User provided device_type of \\'cuda\\', but CUDA is not available. Disabling')\n",
      "     10/99        0G   0.07515   0.02478   0.03492        27       416:  12%|█▎ /home/eisti/Desktop/ING3/usecase1/lib/python3.9/site-packages/torch/autocast_mode.py:141: UserWarning: User provided device_type of 'cuda', but CUDA is not available. Disabling\n",
      "  warnings.warn('User provided device_type of \\'cuda\\', but CUDA is not available. Disabling')\n",
      "     10/99        0G   0.07921   0.02274   0.03434        25       416:  19%|█▉ /home/eisti/Desktop/ING3/usecase1/lib/python3.9/site-packages/torch/autocast_mode.py:141: UserWarning: User provided device_type of 'cuda', but CUDA is not available. Disabling\n",
      "  warnings.warn('User provided device_type of \\'cuda\\', but CUDA is not available. Disabling')\n",
      "     10/99        0G   0.08065   0.02206   0.03431        25       416:  25%|██▌/home/eisti/Desktop/ING3/usecase1/lib/python3.9/site-packages/torch/autocast_mode.py:141: UserWarning: User provided device_type of 'cuda', but CUDA is not available. Disabling\n",
      "  warnings.warn('User provided device_type of \\'cuda\\', but CUDA is not available. Disabling')\n",
      "     10/99        0G   0.08148   0.02207   0.03474        31       416:  31%|███/home/eisti/Desktop/ING3/usecase1/lib/python3.9/site-packages/torch/autocast_mode.py:141: UserWarning: User provided device_type of 'cuda', but CUDA is not available. Disabling\n",
      "  warnings.warn('User provided device_type of \\'cuda\\', but CUDA is not available. Disabling')\n"
     ]
    },
    {
     "name": "stdout",
     "output_type": "stream",
     "text": [
      "     10/99        0G   0.08031   0.02437   0.03487        41       416:  38%|███/home/eisti/Desktop/ING3/usecase1/lib/python3.9/site-packages/torch/autocast_mode.py:141: UserWarning: User provided device_type of 'cuda', but CUDA is not available. Disabling\n",
      "  warnings.warn('User provided device_type of \\'cuda\\', but CUDA is not available. Disabling')\n",
      "     10/99        0G   0.08009   0.02429   0.03495        29       416:  44%|███/home/eisti/Desktop/ING3/usecase1/lib/python3.9/site-packages/torch/autocast_mode.py:141: UserWarning: User provided device_type of 'cuda', but CUDA is not available. Disabling\n",
      "  warnings.warn('User provided device_type of \\'cuda\\', but CUDA is not available. Disabling')\n",
      "     10/99        0G   0.07914   0.02433   0.03504        29       416:  50%|███/home/eisti/Desktop/ING3/usecase1/lib/python3.9/site-packages/torch/autocast_mode.py:141: UserWarning: User provided device_type of 'cuda', but CUDA is not available. Disabling\n",
      "  warnings.warn('User provided device_type of \\'cuda\\', but CUDA is not available. Disabling')\n",
      "     10/99        0G   0.07898   0.02378   0.03486        25       416:  56%|███/home/eisti/Desktop/ING3/usecase1/lib/python3.9/site-packages/torch/autocast_mode.py:141: UserWarning: User provided device_type of 'cuda', but CUDA is not available. Disabling\n",
      "  warnings.warn('User provided device_type of \\'cuda\\', but CUDA is not available. Disabling')\n",
      "     10/99        0G   0.07852   0.02407   0.03473        33       416:  62%|███/home/eisti/Desktop/ING3/usecase1/lib/python3.9/site-packages/torch/autocast_mode.py:141: UserWarning: User provided device_type of 'cuda', but CUDA is not available. Disabling\n",
      "  warnings.warn('User provided device_type of \\'cuda\\', but CUDA is not available. Disabling')\n",
      "     10/99        0G   0.07809   0.02405   0.03481        31       416:  69%|███/home/eisti/Desktop/ING3/usecase1/lib/python3.9/site-packages/torch/autocast_mode.py:141: UserWarning: User provided device_type of 'cuda', but CUDA is not available. Disabling\n",
      "  warnings.warn('User provided device_type of \\'cuda\\', but CUDA is not available. Disabling')\n",
      "     10/99        0G   0.07855     0.024   0.03478        28       416:  75%|███/home/eisti/Desktop/ING3/usecase1/lib/python3.9/site-packages/torch/autocast_mode.py:141: UserWarning: User provided device_type of 'cuda', but CUDA is not available. Disabling\n",
      "  warnings.warn('User provided device_type of \\'cuda\\', but CUDA is not available. Disabling')\n",
      "     10/99        0G   0.07861   0.02434   0.03482        35       416:  81%|███/home/eisti/Desktop/ING3/usecase1/lib/python3.9/site-packages/torch/autocast_mode.py:141: UserWarning: User provided device_type of 'cuda', but CUDA is not available. Disabling\n",
      "  warnings.warn('User provided device_type of \\'cuda\\', but CUDA is not available. Disabling')\n",
      "     10/99        0G   0.07846   0.02443   0.03469        31       416:  88%|███/home/eisti/Desktop/ING3/usecase1/lib/python3.9/site-packages/torch/autocast_mode.py:141: UserWarning: User provided device_type of 'cuda', but CUDA is not available. Disabling\n",
      "  warnings.warn('User provided device_type of \\'cuda\\', but CUDA is not available. Disabling')\n",
      "     10/99        0G   0.07883   0.02426   0.03467        27       416:  94%|███/home/eisti/Desktop/ING3/usecase1/lib/python3.9/site-packages/torch/autocast_mode.py:141: UserWarning: User provided device_type of 'cuda', but CUDA is not available. Disabling\n",
      "  warnings.warn('User provided device_type of \\'cuda\\', but CUDA is not available. Disabling')\n",
      "     10/99        0G   0.07897   0.02391   0.03484        17       416: 100%|███\n",
      "               Class     Images     Labels          P          R     mAP@.5 mAP@\n",
      "                 all         25         27    0.00132      0.256    0.00159   0.000404\n",
      "\n",
      "     Epoch   gpu_mem       box       obj       cls    labels  img_size\n",
      "  0%|          | 0/16 [00:00<?, ?it/s]                                          /home/eisti/Desktop/ING3/usecase1/lib/python3.9/site-packages/torch/autocast_mode.py:141: UserWarning: User provided device_type of 'cuda', but CUDA is not available. Disabling\n",
      "  warnings.warn('User provided device_type of \\'cuda\\', but CUDA is not available. Disabling')\n",
      "     11/99        0G   0.07844   0.02262   0.03411        28       416:   6%|▋  /home/eisti/Desktop/ING3/usecase1/lib/python3.9/site-packages/torch/autocast_mode.py:141: UserWarning: User provided device_type of 'cuda', but CUDA is not available. Disabling\n",
      "  warnings.warn('User provided device_type of \\'cuda\\', but CUDA is not available. Disabling')\n",
      "     11/99        0G   0.08239   0.02072   0.03405        23       416:  12%|█▎ /home/eisti/Desktop/ING3/usecase1/lib/python3.9/site-packages/torch/autocast_mode.py:141: UserWarning: User provided device_type of 'cuda', but CUDA is not available. Disabling\n",
      "  warnings.warn('User provided device_type of \\'cuda\\', but CUDA is not available. Disabling')\n",
      "     11/99        0G   0.08085   0.02245   0.03403        31       416:  19%|█▉ /home/eisti/Desktop/ING3/usecase1/lib/python3.9/site-packages/torch/autocast_mode.py:141: UserWarning: User provided device_type of 'cuda', but CUDA is not available. Disabling\n",
      "  warnings.warn('User provided device_type of \\'cuda\\', but CUDA is not available. Disabling')\n",
      "     11/99        0G   0.08277   0.02213   0.03375        29       416:  25%|██▌/home/eisti/Desktop/ING3/usecase1/lib/python3.9/site-packages/torch/autocast_mode.py:141: UserWarning: User provided device_type of 'cuda', but CUDA is not available. Disabling\n",
      "  warnings.warn('User provided device_type of \\'cuda\\', but CUDA is not available. Disabling')\n",
      "     11/99        0G   0.08083   0.02356   0.03395        35       416:  31%|███/home/eisti/Desktop/ING3/usecase1/lib/python3.9/site-packages/torch/autocast_mode.py:141: UserWarning: User provided device_type of 'cuda', but CUDA is not available. Disabling\n",
      "  warnings.warn('User provided device_type of \\'cuda\\', but CUDA is not available. Disabling')\n",
      "     11/99        0G   0.07842   0.02419   0.03446        29       416:  38%|███/home/eisti/Desktop/ING3/usecase1/lib/python3.9/site-packages/torch/autocast_mode.py:141: UserWarning: User provided device_type of 'cuda', but CUDA is not available. Disabling\n",
      "  warnings.warn('User provided device_type of \\'cuda\\', but CUDA is not available. Disabling')\n",
      "     11/99        0G   0.07852   0.02558   0.03451        44       416:  44%|███/home/eisti/Desktop/ING3/usecase1/lib/python3.9/site-packages/torch/autocast_mode.py:141: UserWarning: User provided device_type of 'cuda', but CUDA is not available. Disabling\n",
      "  warnings.warn('User provided device_type of \\'cuda\\', but CUDA is not available. Disabling')\n",
      "     11/99        0G   0.07597   0.02553   0.03441        29       416:  50%|███/home/eisti/Desktop/ING3/usecase1/lib/python3.9/site-packages/torch/autocast_mode.py:141: UserWarning: User provided device_type of 'cuda', but CUDA is not available. Disabling\n",
      "  warnings.warn('User provided device_type of \\'cuda\\', but CUDA is not available. Disabling')\n",
      "     11/99        0G   0.07734   0.02497   0.03447        29       416:  56%|███/home/eisti/Desktop/ING3/usecase1/lib/python3.9/site-packages/torch/autocast_mode.py:141: UserWarning: User provided device_type of 'cuda', but CUDA is not available. Disabling\n",
      "  warnings.warn('User provided device_type of \\'cuda\\', but CUDA is not available. Disabling')\n",
      "     11/99        0G   0.07815   0.02451   0.03451        27       416:  62%|███/home/eisti/Desktop/ING3/usecase1/lib/python3.9/site-packages/torch/autocast_mode.py:141: UserWarning: User provided device_type of 'cuda', but CUDA is not available. Disabling\n",
      "  warnings.warn('User provided device_type of \\'cuda\\', but CUDA is not available. Disabling')\n",
      "     11/99        0G   0.07806   0.02426   0.03439        27       416:  69%|███/home/eisti/Desktop/ING3/usecase1/lib/python3.9/site-packages/torch/autocast_mode.py:141: UserWarning: User provided device_type of 'cuda', but CUDA is not available. Disabling\n",
      "  warnings.warn('User provided device_type of \\'cuda\\', but CUDA is not available. Disabling')\n",
      "     11/99        0G   0.07854   0.02384   0.03419        27       416:  75%|███/home/eisti/Desktop/ING3/usecase1/lib/python3.9/site-packages/torch/autocast_mode.py:141: UserWarning: User provided device_type of 'cuda', but CUDA is not available. Disabling\n",
      "  warnings.warn('User provided device_type of \\'cuda\\', but CUDA is not available. Disabling')\n"
     ]
    },
    {
     "name": "stdout",
     "output_type": "stream",
     "text": [
      "     11/99        0G   0.07941   0.02367   0.03405        30       416:  81%|███/home/eisti/Desktop/ING3/usecase1/lib/python3.9/site-packages/torch/autocast_mode.py:141: UserWarning: User provided device_type of 'cuda', but CUDA is not available. Disabling\n",
      "  warnings.warn('User provided device_type of \\'cuda\\', but CUDA is not available. Disabling')\n",
      "     11/99        0G   0.08013   0.02362   0.03444        30       416:  88%|███/home/eisti/Desktop/ING3/usecase1/lib/python3.9/site-packages/torch/autocast_mode.py:141: UserWarning: User provided device_type of 'cuda', but CUDA is not available. Disabling\n",
      "  warnings.warn('User provided device_type of \\'cuda\\', but CUDA is not available. Disabling')\n",
      "     11/99        0G   0.08035    0.0239   0.03447        33       416:  94%|███/home/eisti/Desktop/ING3/usecase1/lib/python3.9/site-packages/torch/autocast_mode.py:141: UserWarning: User provided device_type of 'cuda', but CUDA is not available. Disabling\n",
      "  warnings.warn('User provided device_type of \\'cuda\\', but CUDA is not available. Disabling')\n",
      "     11/99        0G    0.0802   0.02417   0.03437        25       416: 100%|███\n",
      "               Class     Images     Labels          P          R     mAP@.5 mAP@\n",
      "                 all         25         27    0.00828      0.141    0.00639   0.000863\n",
      "\n",
      "     Epoch   gpu_mem       box       obj       cls    labels  img_size\n",
      "  0%|          | 0/16 [00:00<?, ?it/s]                                          /home/eisti/Desktop/ING3/usecase1/lib/python3.9/site-packages/torch/autocast_mode.py:141: UserWarning: User provided device_type of 'cuda', but CUDA is not available. Disabling\n",
      "  warnings.warn('User provided device_type of \\'cuda\\', but CUDA is not available. Disabling')\n",
      "     12/99        0G   0.08105   0.02613   0.03491        30       416:   6%|▋  /home/eisti/Desktop/ING3/usecase1/lib/python3.9/site-packages/torch/autocast_mode.py:141: UserWarning: User provided device_type of 'cuda', but CUDA is not available. Disabling\n",
      "  warnings.warn('User provided device_type of \\'cuda\\', but CUDA is not available. Disabling')\n",
      "     12/99        0G   0.07533    0.0261   0.03453        32       416:  12%|█▎ /home/eisti/Desktop/ING3/usecase1/lib/python3.9/site-packages/torch/autocast_mode.py:141: UserWarning: User provided device_type of 'cuda', but CUDA is not available. Disabling\n",
      "  warnings.warn('User provided device_type of \\'cuda\\', but CUDA is not available. Disabling')\n",
      "     12/99        0G   0.07292   0.02717   0.03481        33       416:  19%|█▉ /home/eisti/Desktop/ING3/usecase1/lib/python3.9/site-packages/torch/autocast_mode.py:141: UserWarning: User provided device_type of 'cuda', but CUDA is not available. Disabling\n",
      "  warnings.warn('User provided device_type of \\'cuda\\', but CUDA is not available. Disabling')\n",
      "     12/99        0G   0.07536   0.02708   0.03509        33       416:  25%|██▌/home/eisti/Desktop/ING3/usecase1/lib/python3.9/site-packages/torch/autocast_mode.py:141: UserWarning: User provided device_type of 'cuda', but CUDA is not available. Disabling\n",
      "  warnings.warn('User provided device_type of \\'cuda\\', but CUDA is not available. Disabling')\n",
      "     12/99        0G   0.07623   0.02736    0.0352        35       416:  31%|███/home/eisti/Desktop/ING3/usecase1/lib/python3.9/site-packages/torch/autocast_mode.py:141: UserWarning: User provided device_type of 'cuda', but CUDA is not available. Disabling\n",
      "  warnings.warn('User provided device_type of \\'cuda\\', but CUDA is not available. Disabling')\n",
      "     12/99        0G   0.07508   0.02702   0.03542        29       416:  38%|███/home/eisti/Desktop/ING3/usecase1/lib/python3.9/site-packages/torch/autocast_mode.py:141: UserWarning: User provided device_type of 'cuda', but CUDA is not available. Disabling\n",
      "  warnings.warn('User provided device_type of \\'cuda\\', but CUDA is not available. Disabling')\n",
      "     12/99        0G   0.07406   0.02684   0.03522        32       416:  44%|███/home/eisti/Desktop/ING3/usecase1/lib/python3.9/site-packages/torch/autocast_mode.py:141: UserWarning: User provided device_type of 'cuda', but CUDA is not available. Disabling\n",
      "  warnings.warn('User provided device_type of \\'cuda\\', but CUDA is not available. Disabling')\n",
      "     12/99        0G   0.07454   0.02688   0.03498        33       416:  50%|███/home/eisti/Desktop/ING3/usecase1/lib/python3.9/site-packages/torch/autocast_mode.py:141: UserWarning: User provided device_type of 'cuda', but CUDA is not available. Disabling\n",
      "  warnings.warn('User provided device_type of \\'cuda\\', but CUDA is not available. Disabling')\n"
     ]
    }
   ],
   "source": [
    "# train yolov5s on custom data for 100 epochs\n",
    "# time its performance\n",
    "#%%time\n",
    "import train\n",
    "!python train.py --img 416 --batch 12 --epochs 100 --data {dataset.location}/data.yaml --cfg ./models/custom_yolov5s.yaml --weights '' --name yolov5s_results  --cache\n",
    "#datasetloc = str({dataset.location})\n",
    "#args = \"--img 416 --batch 10 --epochs 2 --data \"+datasetloc+\"/data.yaml --cfg ./models/custom_yolov5s.yaml --weights '' --name yolov5s_results  --cache\"\n",
    "#param = train.parse_opt(args)\n",
    "#train.main(param)"
   ]
  },
  {
   "cell_type": "markdown",
   "metadata": {
    "id": "kJVs_4zEeVbF"
   },
   "source": [
    "# Evaluation de la performance de l'algorithme"
   ]
  },
  {
   "cell_type": "markdown",
   "metadata": {
    "id": "7KN5ghjE6ZWh"
   },
   "source": [
    "On peut visualiser les résultats (métriques etc.) de l'algorithme dans un Tensorboard. \n"
   ]
  },
  {
   "cell_type": "code",
   "execution_count": null,
   "metadata": {
    "colab": {
     "background_save": true
    },
    "id": "bOy5KI2ncnWd",
    "outputId": "483bd585-26cf-46ab-9285-f84f7ba1f308"
   },
   "outputs": [],
   "source": [
    "# Start tensorboard\n",
    "# Launch after you have started training\n",
    "# logs save in the folder \"runs\"\n",
    "#%load_ext tensorboard\n",
    "#%tensorboard --logdir runs"
   ]
  },
  {
   "cell_type": "code",
   "execution_count": null,
   "metadata": {
    "colab": {
     "background_save": true
    },
    "id": "C60XAsyv6OPe",
    "outputId": "ddfe137f-d6c7-4621-a6de-0d834e6205b3"
   },
   "outputs": [],
   "source": [
    "# we can also output some older school graphs if the tensor board isn't working for whatever reason... \n",
    "from utils.plots import plot_results  # plot results.txt as results.png\n",
    "Image(filename='runs/train/yolov5s_results/results.png', width=1000)  # view results.png"
   ]
  },
  {
   "cell_type": "markdown",
   "metadata": {
    "id": "DLI1JmHU7B0l"
   },
   "source": [
    "# Visualisation des résultats"
   ]
  },
  {
   "cell_type": "code",
   "execution_count": null,
   "metadata": {
    "colab": {
     "background_save": true
    },
    "id": "PF9MLHDb7tB6",
    "outputId": "bea11e72-080f-4516-d30b-96162ad7a3a9"
   },
   "outputs": [],
   "source": [
    "# résultats sur le premier batch de données de validation\n",
    "Image(filename='runs/train/yolov5s_results/val_batch0_labels.jpg', width=900)"
   ]
  },
  {
   "cell_type": "code",
   "execution_count": null,
   "metadata": {
    "colab": {
     "background_save": true
    },
    "id": "W40tI99_7BcH",
    "outputId": "1491d877-c426-4dff-d32a-fb91b1e5feb7"
   },
   "outputs": [],
   "source": [
    "# puis sur le second batch\n",
    "Image(filename='runs/train/yolov5s_results/val_batch1_labels.jpg', width=900)"
   ]
  },
  {
   "cell_type": "markdown",
   "metadata": {
    "id": "N3qM6T0W53gh"
   },
   "source": [
    "#Run Inference  With Trained Weights\n",
    "Run inference with a pretrained checkpoint on contents of `test/images` folder downloaded from Roboflow."
   ]
  },
  {
   "cell_type": "code",
   "execution_count": null,
   "metadata": {
    "colab": {
     "background_save": true
    },
    "id": "9nmZZnWOgJ2S",
    "outputId": "4a9b2b6f-5972-45f5-9428-8d9ed8a64677"
   },
   "outputs": [],
   "source": [
    "# use the best weights!\n",
    "!python detect.py --weights runs/train/yolov5s_results/weights/best.pt --img 416 --conf 0.4 --source useCaseHornet-2/test/images"
   ]
  },
  {
   "cell_type": "code",
   "execution_count": null,
   "metadata": {
    "colab": {
     "background_save": true
    },
    "id": "odKEqYtTgbRc"
   },
   "outputs": [],
   "source": [
    "for imageName in glob.glob('runs/detect/exp/*.jpg'): #assuming JPG\n",
    "    display(Image(filename=imageName))\n",
    "    print(\"\\n\")"
   ]
  }
 ],
 "metadata": {
  "accelerator": "GPU",
  "colab": {
   "collapsed_sections": [],
   "name": "Roboflow-YOLOv5",
   "provenance": []
  },
  "kernelspec": {
   "display_name": "Python 3 (ipykernel)",
   "language": "python",
   "name": "python3"
  },
  "language_info": {
   "codemirror_mode": {
    "name": "ipython",
    "version": 3
   },
   "file_extension": ".py",
   "mimetype": "text/x-python",
   "name": "python",
   "nbconvert_exporter": "python",
   "pygments_lexer": "ipython3",
   "version": "3.9.4"
  }
 },
 "nbformat": 4,
 "nbformat_minor": 1
}
